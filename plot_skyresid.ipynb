{
 "cells": [
  {
   "cell_type": "markdown",
   "metadata": {},
   "source": [
    "#### Sky ResidPrototype"
   ]
  },
  {
   "cell_type": "code",
   "execution_count": 3,
   "metadata": {},
   "outputs": [],
   "source": [
    "from bokeh.plotting import figure\n",
    "from bokeh.layouts import row, column, widgetbox, gridplot\n",
    "\n",
    "from bokeh.io import curdoc\n",
    "from bokeh.io import output_notebook, show, output_file\n",
    "\n",
    "from bokeh.models import ColumnDataSource, HoverTool, TapTool, Range1d, OpenURL\n",
    "from bokeh.models import LinearColorMapper , ColorBar\n",
    "from bokeh.models.widgets import Select, Slider\n",
    "\n",
    "\n",
    "import numpy as np"
   ]
  },
  {
   "cell_type": "code",
   "execution_count": 1,
   "metadata": {},
   "outputs": [
    {
     "name": "stdout",
     "output_type": "stream",
     "text": [
      "countpix loaded\n",
      "/home/foliveira/quicklook/spectro/redux/exposures/20190101/00000003/ql-countpix-r4-00000003.yaml\n",
      "getbias loaded\n",
      "/home/foliveira/quicklook/spectro/redux/exposures/20190101/00000003/ql-getbias-r4-00000003.yaml\n",
      "getrms loaded\n",
      "/home/foliveira/quicklook/spectro/redux/exposures/20190101/00000003/ql-getrms-r4-00000003.yaml\n",
      "xwsigma loaded\n",
      "/home/foliveira/quicklook/spectro/redux/exposures/20190101/00000003/ql-xwsigma-r4-00000003.yaml\n",
      "countbins loaded\n",
      "/home/foliveira/quicklook/spectro/redux/exposures/20190101/00000003/ql-countbins-r4-00000003.yaml\n",
      "integ loaded\n",
      "/home/foliveira/quicklook/spectro/redux/exposures/20190101/00000003/ql-integ-r4-00000003.yaml\n",
      "skycont loaded\n",
      "/home/foliveira/quicklook/spectro/redux/exposures/20190101/00000003/ql-skycont-r4-00000003.yaml\n",
      "skypeak loaded\n",
      "/home/foliveira/quicklook/spectro/redux/exposures/20190101/00000003/ql-skypeak-r4-00000003.yaml\n",
      "skyresid loaded\n",
      "/home/foliveira/quicklook/spectro/redux/exposures/20190101/00000003/ql-skyresid-r4-00000003.yaml\n",
      "snr loaded\n",
      "/home/foliveira/quicklook/spectro/redux/exposures/20190101/00000003/ql-snr-r4-00000003.yaml\n"
     ]
    }
   ],
   "source": [
    "#Pre Load this!\n",
    "selected_exposure = '00000003'#args['exposure']\n",
    "selected_arm = 'r' #args['arm']\n",
    "selected_spectrograph =  4 #args['spectrograph']\n",
    "\n",
    "from scalar_metrics_v02 import LoadMetrics\n",
    "\n",
    "cam = selected_arm+str(selected_spectrograph)\n",
    "exp, night = '00000003', '20190101'\n",
    "lm = LoadMetrics(cam, exp, night);\n",
    "metrics, tests  = lm.metrics, lm.tests \n",
    "\n",
    "countpix  = metrics['countpix']\n",
    "getbias   = metrics['getbias']\n",
    "getrms    = metrics['getrms']\n",
    "xwsigma   = metrics['xwsigma']\n",
    "countbins = metrics['countbins']\n",
    "integ     = metrics['integ']\n",
    "skycont   = metrics['skycont']\n",
    "skypeak   = metrics['skypeak']\n",
    "skyresid  = metrics['skyresid']\n",
    "snr       = metrics['snr']"
   ]
  },
  {
   "cell_type": "code",
   "execution_count": 7,
   "metadata": {},
   "outputs": [],
   "source": [
    "skr_tooltip = \"\"\"\n",
    "    <div>\n",
    "        <div>\n",
    "            <span style=\"font-size: 12px; font-weight: bold; color: #303030;\">Wavelength: </span>\n",
    "            <span style=\"font-size: 13px; color: #515151\">@wl &#8491</span>\n",
    "        </div>\n",
    "        <div>\n",
    "            <span style=\"font-size: 12px; font-weight: bold; color: #303030;\">y: </span>\n",
    "            <span style=\"font-size: 13px; color: #515151;\">@med_resid</span>\n",
    "        </div>\n",
    "    </div>\n",
    "\"\"\"\n",
    "\n",
    "wavg_tooltip = \"\"\"\n",
    "    <div>\n",
    "        <div>\n",
    "            <span style=\"font-size: 12px; font-weight: bold; color: #303030;\">Wavelength: </span>\n",
    "            <span style=\"font-size: 13px; color: #515151\">@wl &#8491</span>\n",
    "        </div>\n",
    "        <div>\n",
    "            <span style=\"font-size: 12px; font-weight: bold; color: #303030;\">y: </span>\n",
    "            <span style=\"font-size: 13px; color: #515151;\">@wavg_resid</span>\n",
    "        </div>\n",
    "    </div>\n",
    "\"\"\"\n",
    "\n",
    "skr_hover=HoverTool(tooltips=skr_tooltip, mode='vline')\n",
    "wavg_hover=HoverTool(tooltips=wavg_tooltip, mode='vline')\n",
    "\n",
    "\n",
    "skyres_source = ColumnDataSource(\n",
    "                data={'wl': skyresid['WAVELENGTH'],\n",
    "                      'med_resid' : skyresid['MED_RESID_WAVE'],\n",
    "                      'wavg_resid':  skyresid['WAVG_RES_WAVE']\n",
    "                     })\n",
    "\n",
    "p1 = figure(title= 'MED_RESID_WAVE', \n",
    "            x_axis_label='Angstrom',\n",
    "            plot_width = 720, plot_height = 240,\n",
    "          tools=[skr_hover,\"pan,box_zoom,reset,crosshair, lasso_select\" ])\n",
    "\n",
    "p1.line('wl', 'med_resid', source=skyres_source)\n",
    "\n",
    "'''p1.circle('wl', 'med_resid', source=skyres_source, alpha = 0, size=1,\n",
    "          hover_alpha=1,\n",
    "         hover_fill_color='orange', hover_line_color='red') '''\n",
    "\n",
    "\n",
    "p2 = figure(title= 'WAVG_RESID_WAVE', \n",
    "            x_axis_label='Angstrom',\n",
    "            plot_width = 720, plot_height = 240,\n",
    "          tools=[wavg_hover,\"pan,box_zoom,reset,crosshair, lasso_select\" ])\n",
    "\n",
    "p2.line('wl', 'wavg_resid', source=skyres_source)\n",
    "\n",
    "'''p2.circle('wl', 'wavg_resid', source=skyres_source, alpha=0, size=1,\n",
    "         hover_alpha=1,\n",
    "          hover_fill_color='orange', hover_line_color='red')''' \n",
    "\n",
    "\n",
    "\n",
    "p1.x_range = p2.x_range\n",
    "layout=column(p1,p2)\n",
    "#output_file('output_res_spectrum3.html')\n",
    "show(layout)"
   ]
  },
  {
   "cell_type": "code",
   "execution_count": null,
   "metadata": {},
   "outputs": [],
   "source": []
  }
 ],
 "metadata": {
  "kernelspec": {
   "display_name": "Python 3",
   "language": "python",
   "name": "python3"
  },
  "language_info": {
   "codemirror_mode": {
    "name": "ipython",
    "version": 3
   },
   "file_extension": ".py",
   "mimetype": "text/x-python",
   "name": "python",
   "nbconvert_exporter": "python",
   "pygments_lexer": "ipython3",
   "version": "3.5.4"
  }
 },
 "nbformat": 4,
 "nbformat_minor": 2
}
