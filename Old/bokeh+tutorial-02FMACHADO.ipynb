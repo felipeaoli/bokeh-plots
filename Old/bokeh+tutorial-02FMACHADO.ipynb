{
 "cells": [
  {
   "cell_type": "code",
   "execution_count": 1,
   "metadata": {
    "collapsed": true
   },
   "outputs": [],
   "source": [
    "from bokeh.plotting import figure, show\n",
    "#from bokeh.plotting import output_file\n",
    "from bokeh.plotting import output_notebook\n",
    "import numpy as np\n",
    "\n",
    "\n",
    "\n",
    "from bokeh.io import output_file\n",
    "import datetime\n",
    "t = datetime.datetime.now()\n",
    "now=t.strftime('%Y%b%d-%H:%M:%S')\n",
    "output_file('teste_Foliveira'+now, title='Bokeh Plot')"
   ]
  },
  {
   "cell_type": "code",
   "execution_count": 2,
   "metadata": {},
   "outputs": [
    {
     "name": "stdout",
     "output_type": "stream",
     "text": [
      "r3\n",
      "('Loading ', 'ql-snr-r3-00000003.yaml')\n"
     ]
    }
   ],
   "source": [
    "%matplotlib inline\n",
    "import yaml\n",
    "\n",
    "\n",
    "\n",
    "def name_file(ubr):\n",
    "    folder = '/home/foliveira/quicklook/spectro/redux/exposures/20190101/00000003/'\n",
    "    file_filter =  'ql-snr-'+ubr+'-00000003.yaml'\n",
    "    print('Loading ',file_filter)\n",
    "    return folder + file_filter\n",
    "\n",
    "keys    = []\n",
    "docs    = []\n",
    "metrics = []\n",
    "for i, iname in enumerate(['r3']):\n",
    "    print(iname)\n",
    "    stream = open( name_file(iname), \"r\")\n",
    "    docs.append( yaml.load(stream) ) \n",
    "#     print(docs[i]['METRICS'].keys())\n",
    "    keys.append( list(docs[i]['METRICS'].keys()) )\n",
    "    metrics.append(docs[i]['METRICS'])\n",
    "    #print metrics[-1]['ELG_FITRESULTS'],'\\n'\n",
    "\n",
    "#print metrics[0]['ELG_SNR_MAG'][0][0:3],'\\n',metrics[1]['ELG_SNR_MAG'][0][0:3]"
   ]
  },
  {
   "cell_type": "code",
   "execution_count": 3,
   "metadata": {},
   "outputs": [
    {
     "name": "stdout",
     "output_type": "stream",
     "text": [
      "\n",
      "\n",
      "== r0 ===:\n",
      "1st:\n",
      "y = 1.67e+01 + -7.12e-01 *x \n",
      "2nd:\n",
      "y = 1.64e+02 + -1.40e+01 *x + 2.99e-01 *x**2\n",
      "\n",
      "\n",
      "ELG\n",
      "[164.088436288, -13.9933024196, 0.298951780009 ]\n"
     ]
    }
   ],
   "source": [
    "#from  bokeh.plotting import output_file\n",
    "from bokeh.models import HoverTool\n",
    "from bokeh.plotting import ColumnDataSource\n",
    "#output_notebook()\n",
    "p = figure(plot_width=400, plot_height=400,title=\"NAME\")\n",
    "\n",
    "#tools = \"pan,wheel_zoom,box_zoom,reset, hover\"\n",
    "i_snr = 14\n",
    "\n",
    "\n",
    "#print(metrics[0][keys[0][i_snr] ][0][0:3],'\\n',metrics[1][keys[0][i_snr]][0][0:3])\n",
    "\n",
    "color= ['red']\n",
    "from bokeh.models.glyphs import Circle, Line\n",
    "p.xaxis.axis_label = 'Mag'\n",
    "p.yaxis.axis_label = 'SNR'\n",
    "\n",
    "for ii,iname in enumerate(['r0']):#(['r0','b0']):\n",
    "    x = metrics[ii][keys[ii][i_snr]][1]\n",
    "    y = metrics[ii][keys[ii][i_snr]][0]\n",
    "\n",
    "    source = ColumnDataSource(data=dict(\n",
    "    x1=x,\n",
    "    y1=y,\n",
    "    ))\n",
    "    \n",
    "    hover = HoverTool(tooltips=[\n",
    "         (\"data_index\", \"$index\"),\n",
    "         (\"(Mag,SNR)\", \"($x, $y)\")\n",
    "         ])\n",
    "    p =  figure(tools = [hover,'pan','wheel_zoom','box_zoom','reset'])\n",
    "\n",
    "    a, b       = np.polyfit(x,y,1)\n",
    "    #print a, b\n",
    "    a2, b2, c2 = np.polyfit(x,y,2)\n",
    "    xfit = np.linspace(np.min(x), np.max(x),200)\n",
    "    fit_lin = ColumnDataSource(data = dict( x = xfit, y = a*xfit+ b)  )\n",
    "    fit_sec = ColumnDataSource(data = dict( x = xfit, y = a2*xfit**2 + b2 *xfit +c2)  )\n",
    "\n",
    "    p.circle('x1', 'y1', source =source, fill_alpha=0.7, size=7, line_color='black', fill_color=color[ii])         \n",
    "    p.line('x', 'y', source=fit_lin, line_color=\"black\", line_width= 3, alpha=1.)#color[ii],\n",
    "    p.line('x', 'y', source=fit_sec, line_color=\"black\", line_dash=\"10 10\", line_width=3, alpha=1.) #color[ii],   \n",
    "\n",
    "    print ('\\n\\n== {} ===:\\n1st:\\ny = {:3.2e} + {:3.2e} *x \\n2nd:\\ny = {:3.2e} + {:3.2e} *x + {:3.2e} *x**2\\n\\n'.format(iname,b,a,c2,b2,a2))\n",
    "\n",
    "    print ('{}\\n[{}, {}, {} ]'.format(keys[0][i_snr].replace('_SNR_MAG',''),c2,b2,a2))"
   ]
  },
  {
   "cell_type": "code",
   "execution_count": 4,
   "metadata": {},
   "outputs": [
    {
     "data": {
      "text/plain": [
       "'ELG_FITRESULTS'"
      ]
     },
     "execution_count": 4,
     "metadata": {},
     "output_type": "execute_result"
    }
   ],
   "source": [
    "show(p)\n",
    "keys[0][0]"
   ]
  },
  {
   "cell_type": "code",
   "execution_count": null,
   "metadata": {
    "collapsed": true
   },
   "outputs": [],
   "source": [
    "source.data = dict(x1=[],y1=[])"
   ]
  },
  {
   "cell_type": "code",
   "execution_count": 30,
   "metadata": {
    "collapsed": true
   },
   "outputs": [],
   "source": []
  },
  {
   "cell_type": "code",
   "execution_count": 15,
   "metadata": {
    "collapsed": true
   },
   "outputs": [],
   "source": [
    "t = datetime.datetime.now()"
   ]
  },
  {
   "cell_type": "code",
   "execution_count": 27,
   "metadata": {},
   "outputs": [
    {
     "data": {
      "text/plain": [
       "'2017Sep29-09:04:11'"
      ]
     },
     "execution_count": 27,
     "metadata": {},
     "output_type": "execute_result"
    }
   ],
   "source": [
    "t.strftime('%Y%b%d-%H:%M:%S')"
   ]
  },
  {
   "cell_type": "code",
   "execution_count": null,
   "metadata": {
    "collapsed": true
   },
   "outputs": [],
   "source": []
  }
 ],
 "metadata": {
  "kernelspec": {
   "display_name": "Python 2",
   "language": "python",
   "name": "python2"
  },
  "language_info": {
   "codemirror_mode": {
    "name": "ipython",
    "version": 2
   },
   "file_extension": ".py",
   "mimetype": "text/x-python",
   "name": "python",
   "nbconvert_exporter": "python",
   "pygments_lexer": "ipython2",
   "version": "2.7.13"
  }
 },
 "nbformat": 4,
 "nbformat_minor": 1
}
