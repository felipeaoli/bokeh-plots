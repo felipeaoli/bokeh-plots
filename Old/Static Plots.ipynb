{
 "cells": [
  {
   "cell_type": "code",
   "execution_count": 1,
   "metadata": {
    "collapsed": true
   },
   "outputs": [],
   "source": [
    "%matplotlib inline\n",
    "\n",
    "\n",
    "from matplotlib import colors, cm\n",
    "from matplotlib.colors import LogNorm\n",
    "\n",
    "import matplotlib.pyplot as plt\n",
    "import numpy as np"
   ]
  },
  {
   "cell_type": "code",
   "execution_count": 5,
   "metadata": {
    "collapsed": true
   },
   "outputs": [],
   "source": [
    "import scalar_metrics\n",
    "reload(scalar_metrics)\n",
    "from scalar_metrics import LoadMetrics"
   ]
  },
  {
   "cell_type": "code",
   "execution_count": 6,
   "metadata": {},
   "outputs": [
    {
     "name": "stdout",
     "output_type": "stream",
     "text": [
      "\n",
      "\n",
      "Tests for the available scalars and using yaml output\n",
      "==================================================\n",
      "TO DO:\n",
      " *docs of functions \n",
      " *what more else?\n"
     ]
    },
    {
     "ename": "TypeError",
     "evalue": "exceptions must be old-style classes or derived from BaseException, not str",
     "output_type": "error",
     "traceback": [
      "\u001b[0;31m---------------------------------------------------------------------------\u001b[0m",
      "\u001b[0;31mTypeError\u001b[0m                                 Traceback (most recent call last)",
      "\u001b[0;32m<ipython-input-6-5d88d0e02d42>\u001b[0m in \u001b[0;36m<module>\u001b[0;34m()\u001b[0m\n\u001b[1;32m      2\u001b[0m \u001b[0;32mprint\u001b[0m \u001b[0;34m\"\\n\\nTests for the available scalars and using yaml output\\n\"\u001b[0m\u001b[0;34m,\u001b[0m \u001b[0;34m\"=\"\u001b[0m\u001b[0;34m*\u001b[0m\u001b[0;36m50\u001b[0m\u001b[0;34m\u001b[0m\u001b[0m\n\u001b[1;32m      3\u001b[0m \u001b[0;32mprint\u001b[0m \u001b[0;34m\"TO DO:\\n *docs of functions \\n *what more else?\"\u001b[0m\u001b[0;34m\u001b[0m\u001b[0m\n\u001b[0;32m----> 4\u001b[0;31m \u001b[0mlm\u001b[0m \u001b[0;34m=\u001b[0m \u001b[0mLoadMetrics\u001b[0m\u001b[0;34m(\u001b[0m\u001b[0mcam\u001b[0m\u001b[0;34m,\u001b[0m \u001b[0mexp\u001b[0m\u001b[0;34m,\u001b[0m \u001b[0mnight\u001b[0m\u001b[0;34m)\u001b[0m\u001b[0;34m\u001b[0m\u001b[0m\n\u001b[0m\u001b[1;32m      5\u001b[0m \u001b[0;32mprint\u001b[0m \u001b[0mlm\u001b[0m\u001b[0;34m.\u001b[0m\u001b[0mkeys_from_scalars\u001b[0m\u001b[0;34m(\u001b[0m\u001b[0;34m'getbias'\u001b[0m\u001b[0;34m,\u001b[0m\u001b[0;34m'warn'\u001b[0m\u001b[0;34m)\u001b[0m\u001b[0;34m\u001b[0m\u001b[0m\n\u001b[1;32m      6\u001b[0m \u001b[0;32mprint\u001b[0m \u001b[0mlm\u001b[0m\u001b[0;34m.\u001b[0m\u001b[0mTest_ranges\u001b[0m\u001b[0;34m(\u001b[0m\u001b[0;34m'getbias'\u001b[0m\u001b[0;34m,\u001b[0m \u001b[0;34m'warn'\u001b[0m\u001b[0;34m)\u001b[0m\u001b[0;34m\u001b[0m\u001b[0m\n",
      "\u001b[0;32m/home/foliveira/Documents/QLF/scalar_metrics.py\u001b[0m in \u001b[0;36m__init__\u001b[0;34m(self, cam, exp, night)\u001b[0m\n\u001b[1;32m     48\u001b[0m \u001b[0;34m\u001b[0m\u001b[0m\n\u001b[1;32m     49\u001b[0m         \u001b[0;31m#try:\u001b[0m\u001b[0;34m\u001b[0m\u001b[0;34m\u001b[0m\u001b[0m\n\u001b[0;32m---> 50\u001b[0;31m         \u001b[0mself\u001b[0m\u001b[0;34m.\u001b[0m\u001b[0mmetrics\u001b[0m\u001b[0;34m,\u001b[0m \u001b[0mself\u001b[0m\u001b[0;34m.\u001b[0m\u001b[0mtests\u001b[0m \u001b[0;34m=\u001b[0m \u001b[0mself\u001b[0m\u001b[0;34m.\u001b[0m\u001b[0mLoad_metrics_n_tests\u001b[0m\u001b[0;34m(\u001b[0m\u001b[0mself\u001b[0m\u001b[0;34m.\u001b[0m\u001b[0mqa_name\u001b[0m\u001b[0;34m)\u001b[0m\u001b[0;34m\u001b[0m\u001b[0m\n\u001b[0m\u001b[1;32m     51\u001b[0m         \u001b[0;31m#except:\u001b[0m\u001b[0;34m\u001b[0m\u001b[0;34m\u001b[0m\u001b[0m\n\u001b[1;32m     52\u001b[0m         \u001b[0;31m#   print('File not found' ) #for {}, {}, and {}'.format(self.cam, self.exp, self.night) )\u001b[0m\u001b[0;34m\u001b[0m\u001b[0;34m\u001b[0m\u001b[0m\n",
      "\u001b[0;32m/home/foliveira/Documents/QLF/scalar_metrics.py\u001b[0m in \u001b[0;36mLoad_metrics_n_tests\u001b[0;34m(self, qa_name)\u001b[0m\n\u001b[1;32m    107\u001b[0m \u001b[0;34m\u001b[0m\u001b[0m\n\u001b[1;32m    108\u001b[0m         \u001b[0;32mfor\u001b[0m \u001b[0mi\u001b[0m \u001b[0;32min\u001b[0m \u001b[0mqa_list\u001b[0m\u001b[0;34m:\u001b[0m\u001b[0;34m\u001b[0m\u001b[0m\n\u001b[0;32m--> 109\u001b[0;31m             \u001b[0maux\u001b[0m \u001b[0;34m=\u001b[0m \u001b[0mself\u001b[0m\u001b[0;34m.\u001b[0m\u001b[0mLoad_qa\u001b[0m\u001b[0;34m(\u001b[0m\u001b[0mi\u001b[0m\u001b[0;34m,\u001b[0m \u001b[0mself\u001b[0m\u001b[0;34m.\u001b[0m\u001b[0mcam\u001b[0m\u001b[0;34m,\u001b[0m \u001b[0mself\u001b[0m\u001b[0;34m.\u001b[0m\u001b[0mexp\u001b[0m\u001b[0;34m,\u001b[0m \u001b[0mself\u001b[0m\u001b[0;34m.\u001b[0m\u001b[0mnight\u001b[0m\u001b[0;34m)\u001b[0m\u001b[0;34m\u001b[0m\u001b[0m\n\u001b[0m\u001b[1;32m    110\u001b[0m             \u001b[0mdic_met\u001b[0m\u001b[0;34m.\u001b[0m\u001b[0mupdate\u001b[0m\u001b[0;34m(\u001b[0m\u001b[0;34m{\u001b[0m\u001b[0mi\u001b[0m\u001b[0;34m:\u001b[0m \u001b[0maux\u001b[0m\u001b[0;34m[\u001b[0m\u001b[0;34m'METRICS'\u001b[0m\u001b[0;34m]\u001b[0m\u001b[0;34m}\u001b[0m\u001b[0;34m)\u001b[0m\u001b[0;34m\u001b[0m\u001b[0m\n\u001b[1;32m    111\u001b[0m             \u001b[0mdic_tst\u001b[0m\u001b[0;34m.\u001b[0m\u001b[0mupdate\u001b[0m\u001b[0;34m(\u001b[0m\u001b[0;34m{\u001b[0m\u001b[0mi\u001b[0m\u001b[0;34m:\u001b[0m \u001b[0maux\u001b[0m\u001b[0;34m[\u001b[0m\u001b[0;34m'PARAMS'\u001b[0m\u001b[0;34m]\u001b[0m\u001b[0;34m}\u001b[0m\u001b[0;34m)\u001b[0m\u001b[0;34m\u001b[0m\u001b[0m\n",
      "\u001b[0;32m/home/foliveira/Documents/QLF/scalar_metrics.py\u001b[0m in \u001b[0;36mLoad_qa\u001b[0;34m(self, qa, cam, exp, night)\u001b[0m\n\u001b[1;32m     74\u001b[0m             \u001b[0my2\u001b[0m \u001b[0;34m=\u001b[0m \u001b[0myaml\u001b[0m\u001b[0;34m.\u001b[0m\u001b[0mload\u001b[0m\u001b[0;34m(\u001b[0m\u001b[0mopen\u001b[0m\u001b[0;34m(\u001b[0m\u001b[0maux\u001b[0m\u001b[0;34m,\u001b[0m \u001b[0;34m\"r\"\u001b[0m\u001b[0;34m)\u001b[0m\u001b[0;34m)\u001b[0m\u001b[0;34m\u001b[0m\u001b[0m\n\u001b[1;32m     75\u001b[0m         \u001b[0;32mexcept\u001b[0m\u001b[0;34m:\u001b[0m\u001b[0;34m\u001b[0m\u001b[0m\n\u001b[0;32m---> 76\u001b[0;31m             \u001b[0;32mraise\u001b[0m \u001b[0;34m(\u001b[0m\u001b[0;34m\"Error\"\u001b[0m\u001b[0;34m)\u001b[0m\u001b[0;34m\u001b[0m\u001b[0m\n\u001b[0m\u001b[1;32m     77\u001b[0m         \u001b[0;32mprint\u001b[0m \u001b[0maux\u001b[0m\u001b[0;34m\u001b[0m\u001b[0m\n\u001b[1;32m     78\u001b[0m         \u001b[0;32mprint\u001b[0m \u001b[0;34m'{} loaded'\u001b[0m\u001b[0;34m.\u001b[0m\u001b[0mformat\u001b[0m\u001b[0;34m(\u001b[0m\u001b[0mqa\u001b[0m\u001b[0;34m)\u001b[0m\u001b[0;34m\u001b[0m\u001b[0m\n",
      "\u001b[0;31mTypeError\u001b[0m: exceptions must be old-style classes or derived from BaseException, not str"
     ]
    }
   ],
   "source": [
    "cam, exp, night = 'b0', '00000003', '20190101'\n",
    "print \"\\n\\nTests for the available scalars and using yaml output\\n\", \"=\"*50\n",
    "print \"TO DO:\\n *docs of functions \\n *what more else?\"\n",
    "lm = LoadMetrics(cam, exp, night)\n",
    "print lm.keys_from_scalars('getbias','warn')\n",
    "print lm.Test_ranges('getbias', 'warn')\n",
    "print lm.qa_status('countpix')\n",
    "\n"
   ]
  },
  {
   "cell_type": "code",
   "execution_count": 7,
   "metadata": {},
   "outputs": [
    {
     "name": "stdout",
     "output_type": "stream",
     "text": [
      "/home/felipe/quicklook/spectro/redux/exposures/20190101/00000003/ql-countpix-b0-00000003.yaml\n",
      "countpix loaded\n",
      "/home/felipe/quicklook/spectro/redux/exposures/20190101/00000003/ql-getbias-b0-00000003.yaml\n",
      "getbias loaded\n",
      "/home/felipe/quicklook/spectro/redux/exposures/20190101/00000003/ql-getrms-b0-00000003.yaml\n",
      "getrms loaded\n",
      "/home/felipe/quicklook/spectro/redux/exposures/20190101/00000003/ql-xwsigma-b0-00000003.yaml\n",
      "xwsigma loaded\n",
      "/home/felipe/quicklook/spectro/redux/exposures/20190101/00000003/ql-countbins-b0-00000003.yaml\n",
      "countbins loaded\n",
      "/home/felipe/quicklook/spectro/redux/exposures/20190101/00000003/ql-integ-b0-00000003.yaml\n",
      "integ loaded\n",
      "/home/felipe/quicklook/spectro/redux/exposures/20190101/00000003/ql-skycont-b0-00000003.yaml\n",
      "skycont loaded\n",
      "/home/felipe/quicklook/spectro/redux/exposures/20190101/00000003/ql-skypeak-b0-00000003.yaml\n",
      "skypeak loaded\n",
      "/home/felipe/quicklook/spectro/redux/exposures/20190101/00000003/ql-skyresid-b0-00000003.yaml\n",
      "skyresid loaded\n",
      "/home/felipe/quicklook/spectro/redux/exposures/20190101/00000003/ql-snr-b0-00000003.yaml\n",
      "snr loaded\n"
     ]
    }
   ],
   "source": [
    "\n",
    "metrics, tests  = lm.Load_metrics_n_tests('snr')"
   ]
  },
  {
   "cell_type": "code",
   "execution_count": 23,
   "metadata": {
    "collapsed": true
   },
   "outputs": [],
   "source": [
    "#AUXILIARY\n",
    "countpix  = metrics['countpix']\n",
    "getbias   = metrics['countpix']\n",
    "getrms    = metrics['getrms']\n",
    "xwsigma   = metrics['xwsigma']\n",
    "countbins = metrics['countbins']\n",
    "integ     = metrics['integ']\n",
    "skycont   = metrics['skycont']\n",
    "skypeak   = metrics['skypeak']\n",
    "skyresid  = metrics['skyresid']\n",
    "snr       = metrics['snr']"
   ]
  },
  {
   "cell_type": "markdown",
   "metadata": {},
   "source": [
    "### Dictionary"
   ]
  },
  {
   "cell_type": "code",
   "execution_count": 11,
   "metadata": {
    "collapsed": true
   },
   "outputs": [],
   "source": [
    "def explorer(name):\n",
    "    print '* {} *'.format(name)\n",
    "    x = metrics[name]\n",
    "    for i in x.viewkeys():\n",
    "        try:\n",
    "            print 'List : {} {}'.format( i, len(x[i]))\n",
    "            #if len(x[i]) == 2:\n",
    "            #    print '  \\t\\t {} {} '.format(len(x[i])[0], len(x[i])[1])\n",
    "        except:\n",
    "            print 'float: {} {}'.format( i,  x[i])\n",
    "\n",
    "steps_dic_from_file = {'preproc':['countpix', 'getbias','getrms','xwsigma'],\n",
    "              'extract':['countbins'],\n",
    "              'fiberfl':['integ', 'skycont', 'skypeak', 'skyresid'],\n",
    "              'skysubs':['snr']}\n",
    "steps_list = ['preproc', 'extract', 'fiberfl', 'skysubs']\n",
    "\n",
    "def explorer_test(name):\n",
    "    print '\\ntests',name\n",
    "    x = tests[name]\n",
    "    for i in x.viewkeys():\n",
    "        try:\n",
    "            print 'List : {} {}'.format( i, len(x[i]))\n",
    "            #if len(x[i]) == 2:\n",
    "            #    print '  \\t\\t {} {} '.format(len(x[i])[0], len(x[i])[1])\n",
    "        except:\n",
    "            print 'float: {} {}'.format( i,  x[i])\n",
    "    print '---'*8, '\\n' \n"
   ]
  },
  {
   "cell_type": "code",
   "execution_count": 12,
   "metadata": {
    "scrolled": false
   },
   "outputs": [
    {
     "name": "stdout",
     "output_type": "stream",
     "text": [
      "** preproc **\n",
      "* countpix *\n",
      "List : NPIX_LOW_AMP 4\n",
      "List : NPIX_HIGH_AMP 4\n",
      "List : NPIX_ERR 5\n",
      "float: NPIX_LOW 72877\n",
      "float: NPIX_HIGH 20249\n",
      "\n",
      "tests countpix\n",
      "List : NPIX_ALARM_RANGE 2\n",
      "float: CUTHI 10\n",
      "List : NPIX_WARN_RANGE 2\n",
      "float: CUTLO 3\n",
      "------------------------ \n",
      "\n",
      "* getbias *\n",
      "float: DATA5SIG 2\n",
      "List : BIASDIFF_ERR 6\n",
      "List : BIAS_AMP 4\n",
      "float: DIFF1SIG 0.082\n",
      "float: BIAS 0.164244522865\n",
      "float: DIFF3SIG 0.091\n",
      "float: DIFF2SIG 0.088\n",
      "List : MEANBIAS_ROW 4096\n",
      "\n",
      "tests getbias\n",
      "List : DIFF_ALARM_RANGE 2\n",
      "List : PERCENTILES 3\n",
      "List : DIFF_WARN_RANGE 2\n",
      "------------------------ \n",
      "\n",
      "* getrms *\n",
      "List : RMS_OVER_AMP 4\n",
      "float: RMS 2.23254110261\n",
      "float: RMS_OVER 2.783457319\n",
      "List : EXPNUM_WARN 0\n",
      "List : RMSDIFF_ERR 5\n",
      "List : RMS_ROW 8192\n",
      "List : RMS_AMP 4\n",
      "\n",
      "tests getrms\n",
      "List : RMS_ALARM_RANGE 2\n",
      "List : RMS_WARN_RANGE 2\n",
      "------------------------ \n",
      "\n",
      "* xwsigma *\n",
      "List : XSHIFT_FIB 0\n",
      "List : XSHIFT_AMP 1\n",
      "List : WSHIFT_AMP 1\n",
      "List : SHIFT_ERR 6\n",
      "float: XSHIFT 0.0\n",
      "float: XSIGMA_MED 1.11715661962\n",
      "float: XSIGMA_MED_SKY 1.11715661962\n",
      "List : DEC 5000\n",
      "float: WSHIFT 0.0\n",
      "List : XSIGMA 500\n",
      "List : XSIGMA_AMP 4\n",
      "float: WSIGMA_MED 1.78638501024\n",
      "List : WSHIFT_FIB 0\n",
      "float: WSIGMA_MED_SKY 1.78638501024\n",
      "List : RA 5000\n",
      "List : WSIGMA 500\n",
      "List : WSIGMA_AMP 4\n",
      "\n",
      "tests xwsigma\n",
      "List : B_PEAKS 3\n",
      "List : R_PEAKS 5\n",
      "List : XSHIFT_ALARM_RANGE 2\n",
      "List : WSHIFT_ALARM_RANGE 2\n",
      "List : Z_PEAKS 4\n",
      "List : WSHIFT_WARN_RANGE 2\n",
      "List : XSHIFT_WARN_RANGE 2\n",
      "------------------------ \n",
      "\n",
      "================================ \n",
      "\n",
      "** skysubs **\n",
      "* snr *\n",
      "List : ELG_FITRESULTS 2\n",
      "float: STAR_FIDMAG_SNR 1.23506615142\n",
      "float: ELG_FIDMAG_SNR 0.805243289107\n",
      "List : STAR_FIBERID 9\n",
      "List : MEDIAN_SNR 500\n",
      "List : QSO_FITRESULTS 2\n",
      "List : LRG_SNR_MAG 2\n",
      "List : DEC 500\n",
      "float: LRG_FIDMAG_SNR 0.142910249219\n",
      "List : QSO_SNR_MAG 2\n",
      "List : FIDSNR_WARN 5\n",
      "float: QSO_FIDMAG_SNR 1.13375933834\n",
      "List : LRG_FIBERID 56\n",
      "List : STAR_FITRESULTS 2\n",
      "List : ELG_SNR_MAG 2\n",
      "List : RA 500\n",
      "List : ELG_FIBERID 334\n",
      "List : LRG_FITRESULTS 2\n",
      "List : QSO_FIBERID 62\n",
      "List : STAR_SNR_MAG 2\n",
      "float: NUM_NEGATIVE_SNR 0\n",
      "\n",
      "tests snr\n",
      "List : FIDSNR_WARN_RANGE 2\n",
      "List : FIDSNR_ALARM_RANGE 2\n",
      "float: FIDMAG 22.0\n",
      "------------------------ \n",
      "\n",
      "================================ \n",
      "\n",
      "** extract **\n",
      "* countbins *\n",
      "List : NBINSHI_TEMP 0\n",
      "List : NBINSHIGH_AMP 4\n",
      "List : NBINSLOW_AMP 4\n",
      "List : NBINSMED_AMP 4\n",
      "List : NBINSLOW 500\n",
      "List : RA 5000\n",
      "List : NGOOD_ERR 5\n",
      "List : NBINSHIGH 500\n",
      "List : DEC 5000\n",
      "List : NBINSMED 500\n",
      "float: NGOODFIBERS 500\n",
      "\n",
      "tests countbins\n",
      "float: CUTHI 500\n",
      "float: CUTLO 100\n",
      "float: CUTMED 250\n",
      "List : NGOOD_ALARM_RANGE 2\n",
      "List : NGOOD_WARN_RANGE 2\n",
      "------------------------ \n",
      "\n",
      "================================ \n",
      "\n",
      "** fiberfl **\n",
      "* integ *\n",
      "float: INTEG_AVG 3221832.38933\n",
      "List : INTEG 9\n",
      "List : STD_FIBERID 9\n",
      "List : MAGDIFF_ERR 6\n",
      "List : INTEG_AVG_AMP 4\n",
      "List : MAGDIFF_AVG_AMP 1\n",
      "List : DEC 5000\n",
      "float: MAGDIFF_AVG 0.0\n",
      "List : RA 5000\n",
      "\n",
      "tests integ\n",
      "List : MAGDIFF_ALARM_RANGE 2\n",
      "List : MAGDIFF_WARN_RANGE 2\n",
      "------------------------ \n",
      "\n",
      "* skycont *\n",
      "List : SKYCONT_ERR 6\n",
      "float: SKYCONT 156.515486839\n",
      "List : DEC 5000\n",
      "List : RA 5000\n",
      "List : SKYCONT_AMP 4\n",
      "List : SKYCONT_FIBER 39\n",
      "List : SKYFIBERID 39\n",
      "\n",
      "tests skycont\n",
      "List : SKYCONT_ALARM_RANGE 2\n",
      "List : SKYCONT_WARN_RANGE 2\n",
      "List : B_CONT 4\n",
      "List : Z_CONT 4\n",
      "List : R_CONT 4\n",
      "------------------------ \n",
      "\n",
      "* skypeak *\n",
      "List : SUMCOUNT_MED_SKY 0\n",
      "float: SUMCOUNT_RMS 3.73634229712\n",
      "List : SUMCOUNT_RMS_AMP 4\n",
      "List : RA 5000\n",
      "List : SUMCOUNT 500\n",
      "float: SUMCOUNT_RMS_SKY 0.0889235979799\n",
      "List : SUMCOUNT_ERR 5\n",
      "List : DEC 5000\n",
      "\n",
      "tests skypeak\n",
      "List : B_PEAKS 3\n",
      "List : R_PEAKS 5\n",
      "List : SUMCOUNT_WARN_RANGE 2\n",
      "List : SUMCOUNT_ALARM_RANGE 2\n",
      "List : Z_PEAKS 6\n",
      "------------------------ \n",
      "\n",
      "* skyresid *\n",
      "List : RESID_PER 2\n",
      "List : RESID_RMS 0\n",
      "List : DEVS_EDGES 192\n",
      "List : MED_RESID_FIBER 39\n",
      "float: MED_RESID 0.594747509948\n",
      "float: NBAD_PCHI 1\n",
      "List : WAVELENGTH 2701\n",
      "List : DEC 500\n",
      "List : SKY_FIBERID 39\n",
      "float: NREJ 0\n",
      "List : WAVG_RES_WAVE 2701\n",
      "List : DEVS_1D 191\n",
      "List : MED_RESID_WAVE 2701\n",
      "List : RA 500\n",
      "float: MED_SKY 161.564451715\n",
      "float: NSKY_FIB 39\n",
      "\n",
      "tests skyresid\n",
      "float: PCHI_RESID 0.05\n",
      "float: PER_RESID 95.0\n",
      "List : SKY_ALARM_RANGE 2\n",
      "List : SKY_WARN_RANGE 2\n",
      "float: BIN_SZ 0.1\n",
      "------------------------ \n",
      "\n",
      "================================ \n",
      "\n"
     ]
    }
   ],
   "source": [
    "for j in list(steps_dic_from_file.viewkeys()):\n",
    "    print '** {} **'.format(j) \n",
    "    for i in steps_dic_from_file[j]:\n",
    "        explorer(i)\n",
    "        explorer_test(i)\n",
    "    print '===='*8,'\\n'"
   ]
  },
  {
   "cell_type": "markdown",
   "metadata": {},
   "source": [
    "<a id=\"main\"></a>\n"
   ]
  },
  {
   "cell_type": "markdown",
   "metadata": {},
   "source": [
    "\n",
    "### QA Steps\n",
    "\n",
    "[Step 1 (countpix, getbias, getrms,  xwsigma)]( #step1)\n",
    "\n",
    "[Step 2 (countbins)](#step2)\n",
    "\n",
    "[Step 3 (integ, skycount, skypeak, skyresid)](#step3)\n",
    "\n",
    "[Step 4 (snr)](#step4)"
   ]
  },
  {
   "cell_type": "markdown",
   "metadata": {},
   "source": [
    "###  =================\n",
    "\n",
    "<a id=\"step1\"  style=\"color:red\">Step 1: PRE PROCESSING</a> \n",
    "\n",
    "[(Back to Main)](#main)    [Next =>](#step2)"
   ]
  },
  {
   "cell_type": "markdown",
   "metadata": {},
   "source": [
    "#### 1.1) CountPix"
   ]
  },
  {
   "cell_type": "code",
   "execution_count": 28,
   "metadata": {},
   "outputs": [
    {
     "data": {
      "image/png": "[encoded data removed]",
      "text/plain": [
       "<matplotlib.figure.Figure at 0x7f1faf3950d0>"
      ]
     },
     "metadata": {},
     "output_type": "display_data"
    }
   ],
   "source": [
    "#preproc\n",
    "\n",
    "grid =np.array([[0,1],[0,1]])\n",
    "fig, ax = plt.subplots()\n",
    "\n",
    "to_plot = np.array(countpix['NPIX_LOW_AMP']).reshape(2,2)\n",
    "vmin, vmax = np.min(countpix['NPIX_LOW_AMP']), np.max(countpix['NPIX_LOW_AMP'])\n",
    "if vmin != 0: vmin= 0.8*vmin\n",
    "if vmax != 0: vmax = 1.1*vmax\n",
    "im         = ax.imshow(to_plot, cmap=cm.jet, interpolation='nearest',norm=LogNorm(vmin=vmin, vmax=vmax) )\n",
    "\n",
    "ax.axis('off')\n",
    "for (j, i), _ in np.ndenumerate(grid):\n",
    "    label = 'AMP {}\\n {}'.format(i+j+j+1, to_plot[i,j])\n",
    "    ax.text(i,j,label,ha='center',va='center', color='white', fontsize=14)\n",
    "\n",
    "cb = plt.colorbar(im,ax=ax)\n",
    "cb.ax.tick_params(labelsize=11)\n"
   ]
  },
  {
   "cell_type": "markdown",
   "metadata": {},
   "source": [
    "#### 1.2) Getbias"
   ]
  },
  {
   "cell_type": "code",
   "execution_count": null,
   "metadata": {
    "collapsed": true
   },
   "outputs": [],
   "source": []
  },
  {
   "cell_type": "markdown",
   "metadata": {},
   "source": [
    "#### 1.3) Getrms"
   ]
  },
  {
   "cell_type": "code",
   "execution_count": null,
   "metadata": {
    "collapsed": true
   },
   "outputs": [],
   "source": []
  },
  {
   "cell_type": "markdown",
   "metadata": {},
   "source": [
    "#### 1.4) XWsigma"
   ]
  },
  {
   "cell_type": "code",
   "execution_count": 84,
   "metadata": {},
   "outputs": [
    {
     "data": {
      "text/plain": [
       "1.1182828353934366"
      ]
     },
     "execution_count": 84,
     "metadata": {},
     "output_type": "execute_result"
    },
    {
     "data": {
      "image/png": "[encoded data removed]",
      "text/plain": [
       "<matplotlib.figure.Figure at 0x7f1fac08ec90>"
      ]
     },
     "metadata": {},
     "output_type": "display_data"
    }
   ],
   "source": [
    "plt.hist(xwsigma['XSIGMA'], bins = 17, edgecolor='k')\n",
    "np.mean(xwsigma['XSIGMA'])\n",
    "\n",
    "\"\"\"Why is the mean calculated here different from the ql output?\"\"\""
   ]
  },
  {
   "cell_type": "code",
   "execution_count": 85,
   "metadata": {},
   "outputs": [
    {
     "data": {
      "text/plain": [
       "1.8729113064934775"
      ]
     },
     "execution_count": 85,
     "metadata": {},
     "output_type": "execute_result"
    },
    {
     "data": {
      "image/png": "[encoded data removed]",
      "text/plain": [
       "<matplotlib.figure.Figure at 0x7f1fac08ed10>"
      ]
     },
     "metadata": {},
     "output_type": "display_data"
    }
   ],
   "source": [
    "plt.hist(xwsigma['WSIGMA'], bins=17, edgecolor='k')\n",
    "np.mean(xwsigma['WSIGMA'])\n",
    "\"\"\"Why is the mean calculated here different from the ql output?\"\"\""
   ]
  },
  {
   "cell_type": "markdown",
   "metadata": {},
   "source": [
    "###  =================\n",
    "\n",
    "<a id=\"step2\" style=\"color:red\">Step 2: EXTRACTION </a>     \n",
    "\n",
    "[<= Back](#step1) [  (Back to Main)  ](#main)   [Next =>](#step3)"
   ]
  },
  {
   "cell_type": "markdown",
   "metadata": {},
   "source": [
    "#### 2.1) Countbins"
   ]
  },
  {
   "cell_type": "code",
   "execution_count": 112,
   "metadata": {},
   "outputs": [
    {
     "data": {
      "text/plain": [
       "<matplotlib.legend.Legend at 0x7f1fa67aa2d0>"
      ]
     },
     "execution_count": 112,
     "metadata": {},
     "output_type": "execute_result"
    },
    {
     "data": {
      "image/png": "[encoded data removed]",
      "text/plain": [
       "<matplotlib.figure.Figure at 0x7f1fa6b71e10>"
      ]
     },
     "metadata": {},
     "output_type": "display_data"
    }
   ],
   "source": [
    "plt.hist( countbins['NBINSHIGH'], bins=12, edgecolor='k', alpha=0.6 , label='HIGH')\n",
    "plt.hist( countbins['NBINSLOW'], bins=12, edgecolor='k', alpha=0.6, label='LOW')\n",
    "plt.hist( countbins['NBINSMED'], bins=12, edgecolor='k', alpha=0.6, label='MED')\n",
    "plt.legend(loc='best')\n"
   ]
  },
  {
   "cell_type": "code",
   "execution_count": 118,
   "metadata": {},
   "outputs": [
    {
     "data": {
      "image/png": "[encoded data removed]",
      "text/plain": [
       "<matplotlib.figure.Figure at 0x7f1fa6aa9c10>"
      ]
     },
     "metadata": {},
     "output_type": "display_data"
    },
    {
     "data": {
      "image/png": "[encoded data removed]",
      "text/plain": [
       "<matplotlib.figure.Figure at 0x7f1fa656ead0>"
      ]
     },
     "metadata": {},
     "output_type": "display_data"
    },
    {
     "data": {
      "image/png": "[encoded data removed]",
      "text/plain": [
       "<matplotlib.figure.Figure at 0x7f1fa5f4bb90>"
      ]
     },
     "metadata": {},
     "output_type": "display_data"
    }
   ],
   "source": [
    "color = ['dodgerblue', 'orange','green' ]\n",
    "for i, key in enumerate(['NBINSHIGH', 'NBINSLOW', 'NBINSMED']):\n",
    "    plt.hist( countbins[key], bins=12, facecolor=color[i], edgecolor='k', alpha=0.6, label=key.replace('NBINS',\"\"))\n",
    "    plt.legend(loc='best')\n",
    "    plt.show();    plt.close()\n",
    "\n"
   ]
  },
  {
   "cell_type": "markdown",
   "metadata": {},
   "source": [
    "###  =================\n",
    "\n",
    "<a id=\"step3\" style=\"color:red\">Step 3</a>    \n",
    "\n",
    "[<= Back](#step2) [  (Back to Main)  ](#main) [Next =>](#step4)\n"
   ]
  },
  {
   "cell_type": "markdown",
   "metadata": {},
   "source": [
    "#### 3.1) Integ"
   ]
  },
  {
   "cell_type": "code",
   "execution_count": 55,
   "metadata": {},
   "outputs": [
    {
     "name": "stdout",
     "output_type": "stream",
     "text": [
      "[743968.4704349267, 4188715.8533810945, 11156213.384535, 945928.1268592409, 1499682.111085032, 1401996.2717565733, 1037147.793211626, 7250166.330623063, 772673.1620965535]\n",
      "[25, 168, 202, 250, 273, 294, 336, 413, 492]\n",
      "[1804977.3933221402, 1014664.3047554797, 2343625.958015211, 1314340.1920512174]\n"
     ]
    },
    {
     "data": {
      "text/plain": [
       "(array([ 6.,  0.,  0.,  1.,  0.,  0.,  1.,  0.,  0.,  1.]),\n",
       " array([   743968.47043493,   1785192.96184493,   2826417.45325494,\n",
       "          3867641.94466495,   4908866.43607496,   5950090.92748496,\n",
       "          6991315.41889497,   8032539.91030498,   9073764.40171499,\n",
       "         10114988.89312499,  11156213.384535  ]),\n",
       " <a list of 10 Patch objects>)"
      ]
     },
     "execution_count": 55,
     "metadata": {},
     "output_type": "execute_result"
    },
    {
     "data": {
      "image/png": "[encoded data removed]",
      "text/plain": [
       "<matplotlib.figure.Figure at 0x7f1faef98c90>"
      ]
     },
     "metadata": {},
     "output_type": "display_data"
    }
   ],
   "source": [
    "print integ['INTEG']\n",
    "print integ['STD_FIBERID']\n",
    "print integ['INTEG_AVG_AMP']\n",
    "\n",
    "plt.hist(integ['INTEG'])"
   ]
  },
  {
   "cell_type": "markdown",
   "metadata": {},
   "source": [
    "#### 3.2) skycount"
   ]
  },
  {
   "cell_type": "code",
   "execution_count": 105,
   "metadata": {},
   "outputs": [
    {
     "data": {
      "text/plain": [
       "<matplotlib.collections.PathCollection at 0x7f1fa6e78410>"
      ]
     },
     "execution_count": 105,
     "metadata": {},
     "output_type": "execute_result"
    },
    {
     "data": {
      "image/png": "[encoded data removed]",
      "text/plain": [
       "<matplotlib.figure.Figure at 0x7f1fa6ef0690>"
      ]
     },
     "metadata": {},
     "output_type": "display_data"
    }
   ],
   "source": [
    "#float: SKYCONT 156.515486839\n",
    "#List : DEC 5000\n",
    "#List : RA 5000\n",
    "#print skycont['SKYCONT_AMP']\n",
    "#print skycont['SKYCONT_FIBER']\n",
    "#print skycont['SKYFIBERID']\n",
    "plt.figure(figsize=(8,8))\n",
    "plt.xlim(331,335)\n",
    "plt.ylim(13,16.7)\n",
    "x = [ skycont['RA'][i]  for i in skycont['SKYFIBERID'] ]\n",
    "y = [ skycont['DEC'][i] for i in skycont['SKYFIBERID'] ]\n",
    "\n",
    "x2 = [ integ['RA'][i]  for i in integ['STD_FIBERID'] ]\n",
    "y2 = [ integ['DEC'][i] for i in integ['STD_FIBERID'] ]\n",
    "\n",
    "plt.scatter(x,y , c = skycont['SKYCONT_FIBER'], marker='.')\n",
    "plt.scatter(x2,y2 , c =integ['STD_FIBERID'], marker='*') #integ['STD_FIBERID']\n",
    "\n",
    " \n"
   ]
  },
  {
   "cell_type": "markdown",
   "metadata": {},
   "source": [
    "#### 3.3 Skypeak"
   ]
  },
  {
   "cell_type": "code",
   "execution_count": null,
   "metadata": {
    "collapsed": true
   },
   "outputs": [],
   "source": []
  },
  {
   "cell_type": "markdown",
   "metadata": {},
   "source": [
    "#### 3.4) Skyresid)"
   ]
  },
  {
   "cell_type": "code",
   "execution_count": 33,
   "metadata": {},
   "outputs": [
    {
     "data": {
      "image/png": "[encoded data removed]",
      "text/plain": [
       "<matplotlib.figure.Figure at 0x7f1fad23f7d0>"
      ]
     },
     "metadata": {},
     "output_type": "display_data"
    },
    {
     "data": {
      "image/png": "[encoded data removed]",
      "text/plain": [
       "<matplotlib.figure.Figure at 0x7f1fad252d10>"
      ]
     },
     "metadata": {},
     "output_type": "display_data"
    },
    {
     "data": {
      "image/png": "[encoded data removed]",
      "text/plain": [
       "<matplotlib.figure.Figure at 0x7f1faec48a10>"
      ]
     },
     "metadata": {},
     "output_type": "display_data"
    }
   ],
   "source": [
    "plt.figure(figsize=(10,3))\n",
    "plt.plot(skyresid['WAVELENGTH'], skyresid['MED_RESID_WAVE'], linewidth =1)\n",
    "plt.xlabel('Angstrom')\n",
    "plt.show() ; plt.close()\n",
    "\n",
    "plt.figure(figsize=(10,3))\n",
    "plt.plot(skyresid['WAVELENGTH'], skyresid['WAVG_RES_WAVE'], linewidth =1)\n",
    "ax.set_xlabel('Angstrom')\n",
    "plt.show() ; plt.close()\n",
    "\n",
    "fig = plt.figure(figsize=(8, 8))\n",
    "ax = fig.add_axes([0.1,0.1,0.8,0.8],polar=False)\n",
    "ax.set_xlim(331,335)\n",
    "ax.set_ylim(13,16.7)\n",
    "\n",
    "\n",
    "bad = skyresid['SKY_FIBERID']\n",
    "col, mark =[],[]\n",
    "for x in range(500):\n",
    "    if x in bad:\n",
    "        col.append('red')\n",
    "        mark.append('s')\n",
    "    else:\n",
    "        col.append('green')\n",
    "        mark.append('.')\n",
    "\n",
    "ax.scatter(skyresid['RA'], skyresid['DEC'], c= col, marker=\".\")\n",
    "#ax.scatter(countbins['RA'], countbins['DEC'][bad], c=, marker=\".\")\n",
    "\n",
    "plt.show(); plt.close()\n"
   ]
  },
  {
   "cell_type": "markdown",
   "metadata": {},
   "source": [
    "<a id=\"step4\"  style=\"color:red\">Step 4 SKY SUBSTRACTION</a>     \n",
    "\n",
    "[<= Back](#step3)  [  (Back to Main)  ](#main) "
   ]
  },
  {
   "cell_type": "markdown",
   "metadata": {},
   "source": [
    "#### 4.1) SNR"
   ]
  },
  {
   "cell_type": "code",
   "execution_count": null,
   "metadata": {
    "collapsed": true
   },
   "outputs": [],
   "source": [
    "#SAME AS IN THE LAST VERSION!"
   ]
  }
 ],
 "metadata": {
  "kernelspec": {
   "display_name": "Python 2",
   "language": "python",
   "name": "python2"
  },
  "language_info": {
   "codemirror_mode": {
    "name": "ipython",
    "version": 2
   },
   "file_extension": ".py",
   "mimetype": "text/x-python",
   "name": "python",
   "nbconvert_exporter": "python",
   "pygments_lexer": "ipython2",
   "version": "2.7.13"
  }
 },
 "nbformat": 4,
 "nbformat_minor": 2
}
