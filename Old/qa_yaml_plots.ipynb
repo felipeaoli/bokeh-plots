{
 "cells": [
  {
   "cell_type": "code",
   "execution_count": 1,
   "metadata": {
    "collapsed": true
   },
   "outputs": [],
   "source": [
    "from bokeh.plotting import figure, show\n",
    "#from bokeh.plotting import output_file\n",
    "from bokeh.plotting import output_notebook\n",
    "import numpy as np\n",
    "%matplotlib inline\n",
    "import yaml\n",
    "from scalar_metrics import LoadMetrics\n",
    "\n",
    "from bokeh.io import output_file\n",
    "import datetime\n",
    "t = datetime.datetime.now()\n",
    "now=t.strftime('%Y%b%d-%H:%M:%S')\n"
   ]
  },
  {
   "cell_type": "code",
   "execution_count": 2,
   "metadata": {
    "collapsed": true
   },
   "outputs": [],
   "source": [
    "output_file('tmp/teste_Foliveira'+now, title='Bokeh Plot')"
   ]
  },
  {
   "cell_type": "code",
   "execution_count": 4,
   "metadata": {},
   "outputs": [
    {
     "name": "stdout",
     "output_type": "stream",
     "text": [
      "b0\n",
      "('Loading ', 'ql-snr-b0-00000003.yaml')\n"
     ]
    }
   ],
   "source": [
    "def name_file(ubr):\n",
    "    folder = '/home/felipe/quicklook/spectro/redux/exposures/20190101/00000003/'\n",
    "    file_filter =  'ql-snr-'+ubr+'-00000003.yaml'\n",
    "    print('Loading ',file_filter)\n",
    "    return folder + file_filter\n",
    "\n",
    "keys    = []\n",
    "docs    = []\n",
    "metrics = []\n",
    "for i, iname in enumerate(['b0']):\n",
    "    print(iname)\n",
    "    stream = open( name_file(iname), \"r\")\n",
    "    docs.append( yaml.load(stream) ) \n",
    "#     print(docs[i]['METRICS'].keys())\n",
    "    keys.append( list(docs[i]['METRICS'].keys()) )\n",
    "    metrics.append(docs[i]['METRICS'])\n",
    "    #print metrics[-1]['ELG_FITRESULTS'],'\\n'\n",
    "\n",
    "#print metrics[0]['ELG_SNR_MAG'][0][0:3],'\\n',metrics[1]['ELG_SNR_MAG'][0][0:3]"
   ]
  },
  {
   "cell_type": "code",
   "execution_count": 5,
   "metadata": {},
   "outputs": [
    {
     "name": "stdout",
     "output_type": "stream",
     "text": [
      "\n",
      "\n",
      "== r0 ===:\n",
      "1st:\n",
      "y = 1.53e+01 + -6.54e-01 *x \n",
      "2nd:\n",
      "y = 1.68e+02 + -1.44e+01 *x + 3.10e-01 *x**2\n",
      "\n",
      "\n",
      "ELG\n",
      "[168.321043878, -14.4296956687, 0.309850437437 ]\n"
     ]
    }
   ],
   "source": [
    "#from  bokeh.plotting import output_file\n",
    "from bokeh.models import HoverTool\n",
    "from bokeh.plotting import ColumnDataSource\n",
    "#output_notebook()\n",
    "p = figure(plot_width=400, plot_height=400,title=\"NAME\")\n",
    "\n",
    "#tools = \"pan,wheel_zoom,box_zoom,reset, hover\"\n",
    "i_snr = 14\n",
    "\n",
    "\n",
    "#print(metrics[0][keys[0][i_snr] ][0][0:3],'\\n',metrics[1][keys[0][i_snr]][0][0:3])\n",
    "\n",
    "color= ['red']\n",
    "from bokeh.models.glyphs import Circle, Line\n",
    "p.xaxis.axis_label = 'Mag'\n",
    "p.yaxis.axis_label = 'SNR'\n",
    "\n",
    "for ii,iname in enumerate(['r0']):#(['r0','b0']):\n",
    "    x = metrics[ii][keys[ii][i_snr]][1]\n",
    "    y = metrics[ii][keys[ii][i_snr]][0]\n",
    "\n",
    "    source = ColumnDataSource(data=dict(\n",
    "    x1=x,\n",
    "    y1=y,\n",
    "    ))\n",
    "    \n",
    "    hover = HoverTool(tooltips=[\n",
    "         (\"data_index\", \"$index\"),\n",
    "         (\"(Mag,SNR)\", \"($x, $y)\")\n",
    "         ])\n",
    "    p =  figure(tools = [hover,'pan','wheel_zoom','box_zoom','reset'])\n",
    "\n",
    "    a, b       = np.polyfit(x,y,1)\n",
    "    #print a, b\n",
    "    a2, b2, c2 = np.polyfit(x,y,2)\n",
    "    xfit = np.linspace(np.min(x), np.max(x),200)\n",
    "    fit_lin = ColumnDataSource(data = dict( x = xfit, y = a*xfit+ b)  )\n",
    "    fit_sec = ColumnDataSource(data = dict( x = xfit, y = a2*xfit**2 + b2 *xfit +c2)  )\n",
    "\n",
    "    p.circle('x1', 'y1', source =source, fill_alpha=0.7, size=7, line_color='black', fill_color=color[ii])         \n",
    "    p.line('x', 'y', source=fit_lin, line_color=\"black\", line_width= 3, alpha=1.)#color[ii],\n",
    "    p.line('x', 'y', source=fit_sec, line_color=\"black\", line_dash=\"10 10\", line_width=3, alpha=1.) #color[ii],   \n",
    "\n",
    "    print ('\\n\\n== {} ===:\\n1st:\\ny = {:3.2e} + {:3.2e} *x \\n2nd:\\ny = {:3.2e} + {:3.2e} *x + {:3.2e} *x**2\\n\\n'.format(iname,b,a,c2,b2,a2))\n",
    "\n",
    "    print ('{}\\n[{}, {}, {} ]'.format(keys[0][i_snr].replace('_SNR_MAG',''),c2,b2,a2))"
   ]
  },
  {
   "cell_type": "code",
   "execution_count": 5,
   "metadata": {},
   "outputs": [
    {
     "data": {
      "text/plain": [
       "'ELG_FITRESULTS'"
      ]
     },
     "execution_count": 5,
     "metadata": {},
     "output_type": "execute_result"
    }
   ],
   "source": [
    "show(p)\n",
    "keys[0][0]"
   ]
  },
  {
   "cell_type": "code",
   "execution_count": 6,
   "metadata": {},
   "outputs": [
    {
     "data": {
      "text/plain": [
       "'2017Dec04-00:17:50'"
      ]
     },
     "execution_count": 6,
     "metadata": {},
     "output_type": "execute_result"
    }
   ],
   "source": [
    "source.data = dict(x1=[],y1=[])\n",
    "t = datetime.datetime.now()\n",
    "t.strftime('%Y%b%d-%H:%M:%S')"
   ]
  },
  {
   "cell_type": "code",
   "execution_count": 10,
   "metadata": {
    "collapsed": true
   },
   "outputs": [],
   "source": [
    "import scalar_metrics\n",
    "\n",
    "reload(scalar_metrics)\n",
    "from scalar_metrics import LoadMetrics\n",
    "\n"
   ]
  },
  {
   "cell_type": "code",
   "execution_count": 11,
   "metadata": {},
   "outputs": [
    {
     "name": "stdout",
     "output_type": "stream",
     "text": [
      "\n",
      "\n",
      "Tests for the available scalars and using yaml output\n",
      "==================================================\n",
      "TO DO:\n",
      " *docs of functions \n",
      " *what more else?\n",
      "/home/felipe/quicklook/spectro/redux/exposures/20190101/00000003/ql-countpix-b0-00000003.yaml\n",
      "countpix loaded\n",
      "/home/felipe/quicklook/spectro/redux/exposures/20190101/00000003/ql-getbias-b0-00000003.yaml\n",
      "getbias loaded\n",
      "/home/felipe/quicklook/spectro/redux/exposures/20190101/00000003/ql-getrms-b0-00000003.yaml\n",
      "getrms loaded\n",
      "/home/felipe/quicklook/spectro/redux/exposures/20190101/00000003/ql-xwsigma-b0-00000003.yaml\n",
      "xwsigma loaded\n",
      "/home/felipe/quicklook/spectro/redux/exposures/20190101/00000003/ql-countbins-b0-00000003.yaml\n",
      "countbins loaded\n",
      "/home/felipe/quicklook/spectro/redux/exposures/20190101/00000003/ql-integ-b0-00000003.yaml\n",
      "integ loaded\n",
      "/home/felipe/quicklook/spectro/redux/exposures/20190101/00000003/ql-skycont-b0-00000003.yaml\n",
      "skycont loaded\n",
      "/home/felipe/quicklook/spectro/redux/exposures/20190101/00000003/ql-skypeak-b0-00000003.yaml\n",
      "skypeak loaded\n",
      "/home/felipe/quicklook/spectro/redux/exposures/20190101/00000003/ql-skyresid-b0-00000003.yaml\n",
      "skyresid loaded\n",
      "/home/felipe/quicklook/spectro/redux/exposures/20190101/00000003/ql-snr-b0-00000003.yaml\n",
      "snr loaded\n",
      "{'skycont': {'warn': 'SKYCONT_WARN_RANGE', 'alarm': 'SKYCONT_ALARM_RANGE'}, 'skyresid': {'warn': 'SKY_WARN_RANGE', 'alarm': 'SKY_ALARM_RANGE'}, 'xsigma': {'warn': 'XSHIFT_WARN_RANGE', 'alarm': 'XSHIFT_ALARM_RANGE'}, 'skypeak': {'warn': 'SUMCOUNT_WARN_RANGE', 'alarm': 'SUMCOUNT_ALARM_RANGE'}, 'countpix': {'warn': 'NPIX_WARN_RANGE', 'alarm': 'NPIX_ALARM_RANGE'}, 'integ': {'warn': 'MAGDIFF_WARN_RANGE', 'alarm': 'MAGDIFF_ALARM_RANGE'}, 'getrms': {'warn': 'RMS_WARN_RANGE', 'alarm': 'RMS_ALARM_RANGE'}, 'snr': {'warn': 'FIDSNR_WARN_RANGE', 'alarm': 'FIDSNR_ALARM_RANGE'}, 'countbins': {'warn': 'NGOOD_WARN_RANGE', 'alarm': 'NGOOD_ALARM_RANGE'}, 'getbias': {'warn': 'DIFF_WARN_RANGE', 'alarm': 'DIFF_ALARM_RANGE'}, 'wsigma': {'warn': 'WSHIFT_WARN_RANGE', 'alarm': 'WSHIFT_ALARM_RANGE'}}\n",
      "[-1.0, 1.0]\n",
      "ALARM\n"
     ]
    }
   ],
   "source": [
    "cam, exp, night = 'b0', '00000003', '20190101'\n",
    "print \"\\n\\nTests for the available scalars and using yaml output\\n\", \"=\"*50\n",
    "print \"TO DO:\\n *docs of functions \\n *what more else?\"\n",
    "lm = LoadMetrics(cam, exp, night)\n",
    "print lm.keys_from_scalars('getbias','warn')\n",
    "print lm.Test_ranges('getbias', 'warn')\n",
    "print lm.qa_status('countpix')"
   ]
  },
  {
   "cell_type": "code",
   "execution_count": 108,
   "metadata": {},
   "outputs": [
    {
     "name": "stdout",
     "output_type": "stream",
     "text": [
      "/home/felipe/quicklook/spectro/redux/exposures/20190101/00000003/ql-countpix-z7-00000003.yaml\n",
      "countpix loaded\n",
      "/home/felipe/quicklook/spectro/redux/exposures/20190101/00000003/ql-getbias-z7-00000003.yaml\n",
      "getbias loaded\n",
      "/home/felipe/quicklook/spectro/redux/exposures/20190101/00000003/ql-getrms-z7-00000003.yaml\n",
      "getrms loaded\n",
      "/home/felipe/quicklook/spectro/redux/exposures/20190101/00000003/ql-xwsigma-z7-00000003.yaml\n",
      "xwsigma loaded\n",
      "/home/felipe/quicklook/spectro/redux/exposures/20190101/00000003/ql-countbins-z7-00000003.yaml\n",
      "countbins loaded\n",
      "/home/felipe/quicklook/spectro/redux/exposures/20190101/00000003/ql-integ-z7-00000003.yaml\n",
      "integ loaded\n",
      "/home/felipe/quicklook/spectro/redux/exposures/20190101/00000003/ql-skycont-z7-00000003.yaml\n",
      "skycont loaded\n",
      "/home/felipe/quicklook/spectro/redux/exposures/20190101/00000003/ql-skypeak-z7-00000003.yaml\n",
      "skypeak loaded\n",
      "/home/felipe/quicklook/spectro/redux/exposures/20190101/00000003/ql-skyresid-z7-00000003.yaml\n",
      "skyresid loaded\n",
      "/home/felipe/quicklook/spectro/redux/exposures/20190101/00000003/ql-snr-z7-00000003.yaml\n",
      "snr loaded\n"
     ]
    },
    {
     "data": {
      "text/plain": [
       "\"Invalid step: please return a value in ['preproc', 'extract', 'fiberfl', 'skysubs']\""
      ]
     },
     "execution_count": 108,
     "metadata": {},
     "output_type": "execute_result"
    }
   ],
   "source": [
    "cam, exp, night = 'z7', '00000003', '20190101'\n",
    "lm = LoadMetrics(cam, exp, night)\n",
    "lm.PARTIALstep_color('sn')\n"
   ]
  },
  {
   "cell_type": "code",
   "execution_count": 109,
   "metadata": {},
   "outputs": [
    {
     "name": "stdout",
     "output_type": "stream",
     "text": [
      "Steps_status: ['ALARM', 'NORMAL', 'ALARM']\n",
      "red\n"
     ]
    },
    {
     "data": {
      "text/plain": [
       "'red'"
      ]
     },
     "execution_count": 109,
     "metadata": {},
     "output_type": "execute_result"
    }
   ],
   "source": [
    "lm.PARTIALstep_color('preproc')\n",
    "\n",
    "#??LoadMetrics"
   ]
  },
  {
   "cell_type": "code",
   "execution_count": 13,
   "metadata": {},
   "outputs": [
    {
     "name": "stdout",
     "output_type": "stream",
     "text": [
      "\n",
      "Evaluated here:\n",
      "\n",
      "getbias: \tNORMAL\n",
      "getrms: \tALARM\n",
      "skycont: \tNORMAL\n",
      "countbins: \tALARM\n",
      "countpix: \tALARM\n",
      "snr: \tALARM\n",
      "\n",
      "\n",
      "From QL file:\n",
      "In getrms \tRMSDIFF_ERR:\t ALARM\n",
      "In skycont \tSKYCONT_ERR:\t NORMAL\n",
      "In xwsigma \tSHIFT_ERR:\t NORMAL\n",
      "In countbins \tNGOOD_ERR:\t ALARM\n",
      "In skypeak \tSUMCOUNT_ERR:\t ALARM\n",
      "In countpix \tNPIX_ERR:\t ALARM\n",
      "In getbias \tBIASDIFF_ERR:\t NORMAL\n",
      "In integ \tMAGDIFF_ERR:\t NORMAL\n"
     ]
    }
   ],
   "source": [
    "# testing 02: \n",
    "print '\\nEvaluated here:\\n' \n",
    "my_metrics = lm.metrics\n",
    "#print my_metrics\n",
    "for i in lm.metric_qa_list:\n",
    "    print '{}: \\t{}'.format(i, lm.qa_status(i) )\n",
    "    \n",
    "print '\\n\\nFrom QL file:'\n",
    "#Reading form yaml files\n",
    "for j in list(my_metrics):\n",
    "    for jj in list(my_metrics[j]):\n",
    "        if '_ERR' in jj:\n",
    "            print 'In %s \\t'%(j),\n",
    "            print '{}:\\t {}'.format(jj, my_metrics[j][jj])"
   ]
  },
  {
   "cell_type": "code",
   "execution_count": null,
   "metadata": {
    "collapsed": true
   },
   "outputs": [],
   "source": []
  },
  {
   "cell_type": "code",
   "execution_count": 40,
   "metadata": {
    "collapsed": true
   },
   "outputs": [],
   "source": [
    "steps_dic = {'preproc':['countpix', 'getbias','getrms','wsigma', 'xsigma'],\n",
    "              'extract':['countbins'],\n",
    "              'fiberfl':['integ', 'skycont', 'skypeak', 'skyresid'],\n",
    "              'skysubs':['snr']}\n",
    "steps_list = ['preproc', 'extract', 'fiberfl', 'skysub']\n",
    "\n",
    "PARTIALsteps_dic = {'preproc':['countpix', 'getbias','getrms'],\n",
    "              'extract':['countbins'],\n",
    "              'fiberfl':['skycont'],\n",
    "              'skysubs':['snr']}"
   ]
  },
  {
   "cell_type": "code",
   "execution_count": 42,
   "metadata": {},
   "outputs": [
    {
     "name": "stdout",
     "output_type": "stream",
     "text": [
      "['ALARM']\n",
      "red\n"
     ]
    }
   ],
   "source": [
    "steps_status = []\n",
    "for i in PARTIALsteps_dic['skysubs']:\n",
    "    steps_status.append(lm.qa_status(i))\n",
    "print steps_status\n",
    "    \n",
    "if any( x == 'ALARM'  for x in steps_status):\n",
    "    color =  \"red\"\n",
    "elif any( x == 'WARN'  for x in steps_status):\n",
    "    color =  \"yellow\"\n",
    "elif all(x=='NORMAL' for x in steps_status): #intetionaly redundant\n",
    "    color = \"green\"\n",
    "print color"
   ]
  },
  {
   "cell_type": "code",
   "execution_count": 45,
   "metadata": {
    "collapsed": true
   },
   "outputs": [],
   "source": [
    "def PARTIALstep_color(step_name):\n",
    "    steps_list = ['preproc', 'extract', 'fiberfl', 'skysubs']\n",
    "    if not isinstance(step_name, str): return \"{} is not a String\".format(step_name)\n",
    "    if step_name not in steps_list:\n",
    "        return \"Invalid step: please return a value in {}\".format(steps_list)\n",
    "    \n",
    "    PARTIALsteps_dic = {'preproc':['countpix', 'getbias','getrms'],\n",
    "              'extract':['countbins'],\n",
    "              'fiberfl':['skycont'],\n",
    "              'skysubs':['snr']}\n",
    "    steps_status = []\n",
    "    for i in PARTIALsteps_dic[step_name]:\n",
    "        steps_status.append(lm.qa_status(i))\n",
    "    \n",
    "    if any( x == 'ALARM'  for x in steps_status):\n",
    "        color =  \"red\"\n",
    "    elif any( x == 'WARN'  for x in steps_status):\n",
    "        color =  \"yellow\"\n",
    "    elif all(x=='NORMAL' for x in steps_status): #intetionaly redundant\n",
    "        color = \"green\"\n",
    "    return color\n",
    "\n",
    "    "
   ]
  },
  {
   "cell_type": "code",
   "execution_count": 47,
   "metadata": {},
   "outputs": [
    {
     "data": {
      "text/plain": [
       "'red'"
      ]
     },
     "execution_count": 47,
     "metadata": {},
     "output_type": "execute_result"
    }
   ],
   "source": [
    "PARTIALstep_color('skysubs')"
   ]
  },
  {
   "cell_type": "code",
   "execution_count": 110,
   "metadata": {},
   "outputs": [
    {
     "name": "stdout",
     "output_type": "stream",
     "text": [
      "/home/felipe/quicklook/spectro/redux/exposures/20190101/00000003/ql-countpix-z7-00000003.yaml\n",
      "countpix loaded\n",
      "/home/felipe/quicklook/spectro/redux/exposures/20190101/00000003/ql-getbias-z7-00000003.yaml\n",
      "getbias loaded\n",
      "/home/felipe/quicklook/spectro/redux/exposures/20190101/00000003/ql-getrms-z7-00000003.yaml\n",
      "getrms loaded\n",
      "/home/felipe/quicklook/spectro/redux/exposures/20190101/00000003/ql-xwsigma-z7-00000003.yaml\n",
      "xwsigma loaded\n",
      "/home/felipe/quicklook/spectro/redux/exposures/20190101/00000003/ql-countbins-z7-00000003.yaml\n",
      "countbins loaded\n",
      "/home/felipe/quicklook/spectro/redux/exposures/20190101/00000003/ql-integ-z7-00000003.yaml\n",
      "integ loaded\n",
      "/home/felipe/quicklook/spectro/redux/exposures/20190101/00000003/ql-skycont-z7-00000003.yaml\n",
      "skycont loaded\n",
      "/home/felipe/quicklook/spectro/redux/exposures/20190101/00000003/ql-skypeak-z7-00000003.yaml\n",
      "skypeak loaded\n",
      "/home/felipe/quicklook/spectro/redux/exposures/20190101/00000003/ql-skyresid-z7-00000003.yaml\n",
      "skyresid loaded\n",
      "/home/felipe/quicklook/spectro/redux/exposures/20190101/00000003/ql-snr-z7-00000003.yaml\n",
      "snr loaded\n"
     ]
    }
   ],
   "source": [
    "metrics, tests  = lm.Load_metrics_n_tests('snr')"
   ]
  },
  {
   "cell_type": "code",
   "execution_count": 111,
   "metadata": {},
   "outputs": [
    {
     "data": {
      "text/plain": [
       "['countpix',\n",
       " 'getbias',\n",
       " 'getrms',\n",
       " 'xwsigma',\n",
       " 'countbins',\n",
       " 'integ',\n",
       " 'skycont',\n",
       " 'skypeak',\n",
       " 'skyresid',\n",
       " 'snr']"
      ]
     },
     "execution_count": 111,
     "metadata": {},
     "output_type": "execute_result"
    }
   ],
   "source": [
    "lm.qa_name\n",
    "steps_dic = {'preproc':['countpix', 'getbias','getrms','wsigma', 'xsigma'],\n",
    "              'extract':['countbins'],\n",
    "              'fiberfl':['integ', 'skycont', 'skypeak', 'skyresid'],\n",
    "              'skysubs':['snr']}"
   ]
  },
  {
   "cell_type": "markdown",
   "metadata": {},
   "source": [
    "[preproc](preproc.ipynb)\n",
    "\n",
    "[extract](extract.ipynb)\n",
    "\n",
    "[fiber flattening](fiberfl.ipynb)\n"
   ]
  },
  {
   "cell_type": "code",
   "execution_count": 112,
   "metadata": {
    "collapsed": true
   },
   "outputs": [],
   "source": [
    "countpix  = metrics['countpix']\n",
    "getbias   = metrics['countpix']\n",
    "getrms    = metrics['getrms']\n",
    "xwsigma   = metrics['xwsigma']\n",
    "countbins = metrics['countbins']\n",
    "integ     = metrics['integ']\n",
    "skycont   = metrics['skycont']\n",
    "skypeak   = metrics['skypeak']\n",
    "skyresid  = metrics['skyresid']\n",
    "snr       = metrics['snr']"
   ]
  },
  {
   "cell_type": "code",
   "execution_count": 161,
   "metadata": {
    "collapsed": true
   },
   "outputs": [],
   "source": [
    "# countpix\n",
    "def explorer(name):\n",
    "    print '* {} *'.format(name)\n",
    "    x = metrics[name]\n",
    "    for i in x.viewkeys():\n",
    "        try:\n",
    "            print 'List : {} {}'.format( i, len(x[i]))\n",
    "            #if len(x[i]) == 2:\n",
    "            #    print '  \\t\\t {} {} '.format(len(x[i])[0], len(x[i])[1])\n",
    "        except:\n",
    "            print 'float: {} {}'.format( i,  x[i])\n",
    "\n",
    "def explorer_test(name):\n",
    "    print '\\ntests',name\n",
    "    x = tests[name]\n",
    "    for i in x.viewkeys():\n",
    "        try:\n",
    "            print 'List : {} {}'.format( i, len(x[i]))\n",
    "            #if len(x[i]) == 2:\n",
    "            #    print '  \\t\\t {} {} '.format(len(x[i])[0], len(x[i])[1])\n",
    "        except:\n",
    "            print 'float: {} {}'.format( i,  x[i])\n",
    "    print '---'*8, '\\n' \n",
    "\n",
    "    \n",
    "steps_dic_from_file = {'preproc':['countpix', 'getbias','getrms','xwsigma'],\n",
    "              'extract':['countbins'],\n",
    "              'fiberfl':['integ', 'skycont', 'skypeak', 'skyresid'],\n",
    "              'skysubs':['snr']}\n",
    "steps_list = ['preproc', 'extract', 'fiberfl', 'skysubs']"
   ]
  },
  {
   "cell_type": "code",
   "execution_count": 232,
   "metadata": {},
   "outputs": [
    {
     "name": "stdout",
     "output_type": "stream",
     "text": [
      "([34, 55, 66, 85, 86, 136, 254, 384, 424, 430, 436], [2182938.5718817986, 9865219.87316161, 5699734.134236759, 2852684.537762544, 4140503.057230648, 1967703.0653401848, 3445697.726051213, 906527.1130574653, 8882847.874846507, 1927591.3404064777, 2544441.891798437])\n"
     ]
    }
   ],
   "source": [
    "print( integ['STD_FIBERID'], integ['INTEG'])#, skyresid['SKY_FIBERID']"
   ]
  },
  {
   "cell_type": "code",
   "execution_count": 210,
   "metadata": {
    "scrolled": false
   },
   "outputs": [
    {
     "name": "stdout",
     "output_type": "stream",
     "text": [
      "** preproc **\n",
      "* countpix *\n",
      "List : NPIX_LOW_AMP 4\n",
      "List : NPIX_HIGH_AMP 4\n",
      "List : NPIX_ERR 5\n",
      "float: NPIX_LOW 322456\n",
      "float: NPIX_HIGH 38020\n",
      "\n",
      "tests countpix\n",
      "List : NPIX_ALARM_RANGE 2\n",
      "float: CUTHI 10\n",
      "List : NPIX_WARN_RANGE 2\n",
      "float: CUTLO 3\n",
      "------------------------ \n",
      "\n",
      "* getbias *\n",
      "float: DATA5SIG 2\n",
      "List : BIASDIFF_ERR 6\n",
      "List : BIAS_AMP 4\n",
      "float: DIFF1SIG 0.029\n",
      "float: BIAS 0.147527060821\n",
      "float: DIFF3SIG 0.037\n",
      "float: DIFF2SIG 0.034\n",
      "List : MEANBIAS_ROW 4128\n",
      "\n",
      "tests getbias\n",
      "List : DIFF_ALARM_RANGE 2\n",
      "List : PERCENTILES 3\n",
      "List : DIFF_WARN_RANGE 2\n",
      "------------------------ \n",
      "\n",
      "* getrms *\n",
      "List : RMS_OVER_AMP 4\n",
      "float: RMS 6.76760789808\n",
      "float: RMS_OVER 9.09711577\n",
      "List : EXPNUM_WARN 0\n",
      "List : RMSDIFF_ERR 5\n",
      "List : RMS_ROW 8256\n",
      "List : RMS_AMP 4\n",
      "\n",
      "tests getrms\n",
      "List : RMS_ALARM_RANGE 2\n",
      "List : RMS_WARN_RANGE 2\n",
      "------------------------ \n",
      "\n",
      "* xwsigma *\n",
      "List : XSHIFT_FIB 0\n",
      "List : XSHIFT_AMP 1\n",
      "List : WSHIFT_AMP 1\n",
      "List : SHIFT_ERR 6\n",
      "float: XSHIFT 0.0\n",
      "float: XSIGMA_MED 1.21077348938\n",
      "float: XSIGMA_MED_SKY 1.21077348938\n",
      "List : DEC 5000\n",
      "float: WSHIFT 0.0\n",
      "List : XSIGMA 500\n",
      "List : XSIGMA_AMP 4\n",
      "float: WSIGMA_MED 1.40312959451\n",
      "List : WSHIFT_FIB 0\n",
      "float: WSIGMA_MED_SKY 1.40312959451\n",
      "List : RA 5000\n",
      "List : WSIGMA 500\n",
      "List : WSIGMA_AMP 4\n",
      "\n",
      "tests xwsigma\n",
      "List : B_PEAKS 3\n",
      "List : R_PEAKS 5\n",
      "List : XSHIFT_ALARM_RANGE 2\n",
      "List : WSHIFT_ALARM_RANGE 2\n",
      "List : Z_PEAKS 4\n",
      "List : WSHIFT_WARN_RANGE 2\n",
      "List : XSHIFT_WARN_RANGE 2\n",
      "------------------------ \n",
      "\n",
      "================================ \n",
      "\n",
      "** skysubs **\n",
      "* snr *\n",
      "List : ELG_FITRESULTS 2\n",
      "float: STAR_FIDMAG_SNR 1.24928574872\n",
      "float: ELG_FIDMAG_SNR 1.26976721935\n",
      "List : STAR_FIBERID 11\n",
      "List : MEDIAN_SNR 500\n",
      "List : QSO_FITRESULTS 2\n",
      "List : LRG_SNR_MAG 2\n",
      "List : DEC 500\n",
      "float: LRG_FIDMAG_SNR 2.2963309541\n",
      "List : QSO_SNR_MAG 2\n",
      "List : FIDSNR_WARN 5\n",
      "float: QSO_FIDMAG_SNR 1.34141235801\n",
      "List : LRG_FIBERID 40\n",
      "List : STAR_FITRESULTS 2\n",
      "List : ELG_SNR_MAG 2\n",
      "List : RA 500\n",
      "List : ELG_FIBERID 357\n",
      "List : LRG_FITRESULTS 2\n",
      "List : QSO_FIBERID 57\n",
      "List : STAR_SNR_MAG 2\n",
      "float: NUM_NEGATIVE_SNR 0\n",
      "\n",
      "tests snr\n",
      "List : FIDSNR_WARN_RANGE 2\n",
      "List : FIDSNR_ALARM_RANGE 2\n",
      "float: FIDMAG 22.0\n",
      "------------------------ \n",
      "\n",
      "================================ \n",
      "\n",
      "** extract **\n",
      "* countbins *\n",
      "List : NBINSHI_TEMP 0\n",
      "List : NBINSHIGH_AMP 4\n",
      "List : NBINSLOW_AMP 4\n",
      "List : NBINSMED_AMP 4\n",
      "List : NBINSLOW 500\n",
      "List : RA 5000\n",
      "List : NGOOD_ERR 5\n",
      "List : NBINSHIGH 500\n",
      "List : DEC 5000\n",
      "List : NBINSMED 500\n",
      "float: NGOODFIBERS 500\n",
      "\n",
      "tests countbins\n",
      "float: CUTHI 500\n",
      "float: CUTLO 100\n",
      "float: CUTMED 250\n",
      "List : NGOOD_ALARM_RANGE 2\n",
      "List : NGOOD_WARN_RANGE 2\n",
      "------------------------ \n",
      "\n",
      "================================ \n",
      "\n",
      "** fiberfl **\n",
      "* integ *\n",
      "float: INTEG_AVG 4037808.1078\n",
      "List : INTEG 11\n",
      "List : STD_FIBERID 11\n",
      "List : MAGDIFF_ERR 6\n",
      "List : INTEG_AVG_AMP 4\n",
      "List : MAGDIFF_AVG_AMP 1\n",
      "List : DEC 5000\n",
      "float: MAGDIFF_AVG 0.0\n",
      "List : RA 5000\n",
      "\n",
      "tests integ\n",
      "List : MAGDIFF_ALARM_RANGE 2\n",
      "List : MAGDIFF_WARN_RANGE 2\n",
      "------------------------ \n",
      "\n",
      "* skycont *\n",
      "List : SKYCONT_ERR 6\n",
      "float: SKYCONT 219.211467546\n",
      "List : DEC 5000\n",
      "List : RA 5000\n",
      "List : SKYCONT_AMP 4\n",
      "List : SKYCONT_FIBER 35\n",
      "List : SKYFIBERID 35\n",
      "\n",
      "tests skycont\n",
      "List : SKYCONT_ALARM_RANGE 2\n",
      "List : SKYCONT_WARN_RANGE 2\n",
      "List : B_CONT 4\n",
      "List : Z_CONT 4\n",
      "List : R_CONT 4\n",
      "------------------------ \n",
      "\n",
      "* skypeak *\n",
      "List : SUMCOUNT_MED_SKY 0\n",
      "float: SUMCOUNT_RMS 7.20211297479\n",
      "List : SUMCOUNT_RMS_AMP 4\n",
      "List : RA 5000\n",
      "List : SUMCOUNT 500\n",
      "float: SUMCOUNT_RMS_SKY 0.963898291083\n",
      "List : SUMCOUNT_ERR 5\n",
      "List : DEC 5000\n",
      "\n",
      "tests skypeak\n",
      "List : B_PEAKS 3\n",
      "List : R_PEAKS 5\n",
      "List : SUMCOUNT_WARN_RANGE 2\n",
      "List : SUMCOUNT_ALARM_RANGE 2\n",
      "List : Z_PEAKS 6\n",
      "------------------------ \n",
      "\n",
      "* skyresid *\n",
      "List : RESID_PER 2\n",
      "List : RESID_RMS 0\n",
      "List : DEVS_EDGES 403\n",
      "List : MED_RESID_FIBER 35\n",
      "float: MED_RESID 0.355523133561\n",
      "float: NBAD_PCHI 35\n",
      "List : WAVELENGTH 2726\n",
      "List : DEC 500\n",
      "List : SKY_FIBERID 35\n",
      "float: NREJ 0\n",
      "List : WAVG_RES_WAVE 2726\n",
      "List : DEVS_1D 402\n",
      "List : MED_RESID_WAVE 2726\n",
      "List : RA 500\n",
      "float: MED_SKY 250.099501868\n",
      "float: NSKY_FIB 35\n",
      "\n",
      "tests skyresid\n",
      "float: PCHI_RESID 0.05\n",
      "float: PER_RESID 95.0\n",
      "List : SKY_ALARM_RANGE 2\n",
      "List : SKY_WARN_RANGE 2\n",
      "float: BIN_SZ 0.1\n",
      "------------------------ \n",
      "\n",
      "================================ \n",
      "\n"
     ]
    }
   ],
   "source": [
    "for j in list(steps_dic_from_file.viewkeys()):\n",
    "    print '** {} **'.format(j) \n",
    "    for i in steps_dic_from_file[j]:\n",
    "        explorer(i)\n",
    "        explorer_test(i)\n",
    "    print '===='*8,'\\n'"
   ]
  },
  {
   "cell_type": "raw",
   "metadata": {},
   "source": [
    "# preproc **\n",
    "* countpix *\n",
    "List : NPIX_LOW_AMP 4\n",
    "List : NPIX_HIGH_AMP 4\n",
    "List : NPIX_ERR 5\n",
    "float: NPIX_LOW 322456\n",
    "float: NPIX_HIGH 38020\n",
    "\n",
    "tests countpix\n",
    "List : NPIX_ALARM_RANGE 2\n",
    "float: CUTHI 10\n",
    "List : NPIX_WARN_RANGE 2\n",
    "float: CUTLO 3\n",
    "------------------------ \n",
    "\n",
    "* getbias *\n",
    "float: DATA5SIG 2\n",
    "List : BIASDIFF_ERR 6\n",
    "List : BIAS_AMP 4\n",
    "float: DIFF1SIG 0.029\n",
    "float: BIAS 0.147527060821\n",
    "float: DIFF3SIG 0.037\n",
    "float: DIFF2SIG 0.034\n",
    "List : MEANBIAS_ROW 4128\n",
    "\n",
    "tests getbias\n",
    "List : DIFF_ALARM_RANGE 2\n",
    "List : PERCENTILES 3\n",
    "List : DIFF_WARN_RANGE 2\n",
    "------------------------ \n",
    "\n",
    "* getrms *\n",
    "List : RMS_OVER_AMP 4\n",
    "float: RMS 6.76760789808\n",
    "float: RMS_OVER 9.09711577\n",
    "List : EXPNUM_WARN 0\n",
    "List : RMSDIFF_ERR 5\n",
    "List : RMS_ROW 8256\n",
    "List : RMS_AMP 4\n",
    "\n",
    "tests getrms\n",
    "List : RMS_ALARM_RANGE 2\n",
    "List : RMS_WARN_RANGE 2\n",
    "------------------------ \n",
    "\n",
    "* xwsigma *\n",
    "List : XSHIFT_FIB 0\n",
    "List : XSHIFT_AMP 1\n",
    "List : WSHIFT_AMP 1\n",
    "List : SHIFT_ERR 6\n",
    "float: XSHIFT 0.0\n",
    "float: XSIGMA_MED 1.21077348938\n",
    "float: XSIGMA_MED_SKY 1.21077348938\n",
    "List : DEC 5000\n",
    "float: WSHIFT 0.0\n",
    "List : XSIGMA 500\n",
    "List : XSIGMA_AMP 4\n",
    "float: WSIGMA_MED 1.40312959451\n",
    "List : WSHIFT_FIB 0\n",
    "float: WSIGMA_MED_SKY 1.40312959451\n",
    "List : RA 5000\n",
    "List : WSIGMA 500\n",
    "List : WSIGMA_AMP 4\n",
    "\n",
    "tests xwsigma\n",
    "List : B_PEAKS 3\n",
    "List : R_PEAKS 5\n",
    "List : XSHIFT_ALARM_RANGE 2\n",
    "List : WSHIFT_ALARM_RANGE 2\n",
    "List : Z_PEAKS 4\n",
    "List : WSHIFT_WARN_RANGE 2\n",
    "List : XSHIFT_WARN_RANGE 2\n",
    "------------------------ \n"
   ]
  },
  {
   "cell_type": "code",
   "execution_count": 297,
   "metadata": {},
   "outputs": [
    {
     "data": {
      "image/png": "[encoded data removed]",
      "text/plain": [
       "<matplotlib.figure.Figure at 0x7f94630371d0>"
      ]
     },
     "metadata": {},
     "output_type": "display_data"
    }
   ],
   "source": [
    "#preproc\n",
    "\n",
    "grid =np.array([[0,1],[0,1]])\n",
    "fig, ax = plt.subplots()\n",
    "to_plot=np.array(countpix['NPIX_LOW_AMP']).reshape(2,2)\n",
    "im = ax.imshow(to_plot, cmap=cm.jet, interpolation='nearest',norm=LogNorm(vmin=8.0e4, vmax=9.8e4) )\n",
    "\n",
    "ax.axis('off')\n",
    "for (j, i), _ in np.ndenumerate(grid):\n",
    "    label = 'AMP {}\\n {}'.format(i+j+j+1, to_plot[i,j])\n",
    "    ax.text(i,j,label,ha='center',va='center', color='white', fontsize=14)\n",
    "    \n",
    "#pyplot.show() \n",
    "#ax.set_yticks()\n",
    "cb = plt.colorbar(im,ax=ax)\n",
    "cb.ax.tick_params(labelsize=11)\n"
   ]
  },
  {
   "cell_type": "code",
   "execution_count": 298,
   "metadata": {
    "scrolled": false
   },
   "outputs": [
    {
     "data": {
      "image/png": "[encoded data removed]",
      "text/plain": [
       "<matplotlib.figure.Figure at 0x7f9463c380d0>"
      ]
     },
     "metadata": {},
     "output_type": "display_data"
    },
    {
     "data": {
      "image/png": "[encoded data removed]",
      "text/plain": [
       "<matplotlib.figure.Figure at 0x7f9463239bd0>"
      ]
     },
     "metadata": {},
     "output_type": "display_data"
    },
    {
     "data": {
      "image/png": "[encoded data removed]",
      "text/plain": [
       "<matplotlib.figure.Figure at 0x7f9463252e90>"
      ]
     },
     "metadata": {},
     "output_type": "display_data"
    }
   ],
   "source": [
    "#skyresid\n",
    "\n",
    "plt.figure(figsize=(10,3))\n",
    "plt.plot(skyresid['WAVELENGTH'], skyresid['MED_RESID_WAVE'], linewidth =1)\n",
    "plt.xlabel('Angstrom')\n",
    "plt.show() ; plt.close()\n",
    "\n",
    "plt.figure(figsize=(10,3))\n",
    "plt.plot(skyresid['WAVELENGTH'], skyresid['WAVG_RES_WAVE'], linewidth =1)\n",
    "ax.set_xlabel('Angstrom')\n",
    "plt.show() ; plt.close()\n",
    "\n",
    "\n",
    "\n",
    "fig = plt.figure(figsize=(10, 10))\n",
    "ax = fig.add_axes([0.1,0.1,0.8,0.8],polar=False)\n",
    "ax.set_xlim(331,335)\n",
    "ax.set_ylim(13,16.7)\n",
    "\n",
    "\n",
    "bad = skyresid['SKY_FIBERID']\n",
    "#countbins['RA'][0]\n",
    "col, mark =[],[]\n",
    "for x in range(500):\n",
    "    if x in bad:\n",
    "        col.append('red')\n",
    "        mark.append('s')\n",
    "    else:\n",
    "        col.append('green')\n",
    "        mark.append('.')\n",
    "\n",
    "ax.scatter(skyresid['RA'], skyresid['DEC'], c= col, marker=\".\")\n",
    "#ax.scatter(countbins['RA'], countbins['DEC'][bad], c=, marker=\".\")\n",
    "\n",
    "plt.show(); plt.close()\n"
   ]
  },
  {
   "cell_type": "code",
   "execution_count": 233,
   "metadata": {},
   "outputs": [
    {
     "data": {
      "image/png": "[encoded data removed]",
      "text/plain": [
       "<matplotlib.figure.Figure at 0x7f946436e790>"
      ]
     },
     "metadata": {},
     "output_type": "display_data"
    }
   ],
   "source": [
    "#COUNTBINS\n",
    "ra  = [x/180.0*3.141593 for x in countbins['RA']]\n",
    "\n",
    "fig = plt.figure(figsize=(14, 14))\n",
    "ax = fig.add_axes([0.1,0.1,0.8,0.8],polar=False)\n",
    "ax.scatter(countbins['RA'], countbins['DEC'], c='green', marker=\".\")\n",
    "\n",
    "plt.show(); plt.close()\n"
   ]
  },
  {
   "cell_type": "markdown",
   "metadata": {},
   "source": [
    "### ====================="
   ]
  },
  {
   "cell_type": "code",
   "execution_count": 116,
   "metadata": {},
   "outputs": [
    {
     "name": "stdout",
     "output_type": "stream",
     "text": [
      "8256\n",
      "6.76760789808\n",
      "RMS_OVER_AMP 4\n",
      "RMS val RMS 6.76760789808\n",
      "RMS_OVER val RMS_OVER 9.09711577\n",
      "EXPNUM_WARN 0\n",
      "RMSDIFF_ERR 5\n",
      "RMS_ROW 8256\n",
      "RMS_AMP 4\n"
     ]
    }
   ],
   "source": [
    "# 3) getrms\n",
    "#\n",
    "\n",
    "print len(metrics['getrms']['RMS_ROW'])\n",
    "getrms = metrics['getrms']\n",
    "print getrms['RMS']\n",
    "getrms_keys = list(metrics['getrms'].viewkeys() )\n",
    "for i in getrms_keys:\n",
    "    try:\n",
    "        print i, len(getrms[i])\n",
    "    except:\n",
    "        print 'val', i,  getrms[i]"
   ]
  },
  {
   "cell_type": "code",
   "execution_count": 141,
   "metadata": {},
   "outputs": [
    {
     "data": {
      "text/plain": [
       "<matplotlib.collections.PathCollection at 0x7f94653984d0>"
      ]
     },
     "execution_count": 141,
     "metadata": {},
     "output_type": "execute_result"
    },
    {
     "data": {
      "image/png": "[encoded data removed]",
      "text/plain": [
       "<matplotlib.figure.Figure at 0x7f946541dad0>"
      ]
     },
     "metadata": {},
     "output_type": "display_data"
    }
   ],
   "source": [
    "\n",
    "# snr\n",
    "\n",
    "import matplotlib.pyplot as plt\n",
    "\n",
    "plt.figure(figsize = (10,10))\n",
    "\n",
    "plt.xlim(331,335)\n",
    "plt.ylim(13,16.7)\n",
    "color = 'm' if cam[0]=='z' else cam[0]\n",
    "plt.scatter(snr['RA'], snr['DEC'], c=color, marker='.', )\n"
   ]
  },
  {
   "cell_type": "code",
   "execution_count": null,
   "metadata": {
    "collapsed": true
   },
   "outputs": [],
   "source": [
    "\n"
   ]
  },
  {
   "cell_type": "code",
   "execution_count": null,
   "metadata": {
    "collapsed": true
   },
   "outputs": [],
   "source": []
  }
 ],
 "metadata": {
  "kernelspec": {
   "display_name": "Python 2",
   "language": "python",
   "name": "python2"
  },
  "language_info": {
   "codemirror_mode": {
    "name": "ipython",
    "version": 2
   },
   "file_extension": ".py",
   "mimetype": "text/x-python",
   "name": "python",
   "nbconvert_exporter": "python",
   "pygments_lexer": "ipython2",
   "version": "2.7.13"
  }
 },
 "nbformat": 4,
 "nbformat_minor": 1
}
