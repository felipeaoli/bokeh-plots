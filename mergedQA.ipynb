{
 "cells": [
  {
   "cell_type": "code",
   "execution_count": 1,
   "metadata": {
    "collapsed": true
   },
   "outputs": [],
   "source": [
    "import yaml "
   ]
  },
  {
   "cell_type": "code",
   "execution_count": 2,
   "metadata": {
    "collapsed": true
   },
   "outputs": [],
   "source": [
    "qafile ='/home/foliveira/quicklook/spectro/redux/exposures/20190101/00000003/ql-mergedQA-b1-00000003.yaml'\n",
    "\n",
    "qa = yaml.load(open(qafile,'r'))"
   ]
  },
  {
   "cell_type": "code",
   "execution_count": 3,
   "metadata": {
    "scrolled": false
   },
   "outputs": [
    {
     "name": "stdout",
     "output_type": "stream",
     "text": [
      "['CAMERAS', 'FLAVOR', 'EXPID']\n",
      "b1\n",
      "as ['METRICS', 'PARAMS', 'PIPELINE_STEP']\n",
      "\n",
      "\n",
      "METRICS :  ['DATA5SIG', 'BIAS_STAT', 'BIAS_AMP', 'DIFF1SIG', 'BIAS', 'DIFF3SIG', 'DIFF2SIG', 'MEANBIAS_ROW']\n",
      "PARAMS :  ['BIAS_NORMAL_RANGE', 'PERCENTILES', 'BIAS_WARN_RANGE']\n",
      "\n",
      "PIPELINE_STEP :  INITIALIZE\n",
      "-- BIAS_NORMAL_RANGE\n",
      "-- PERCENTILES\n",
      "-- BIAS_WARN_RANGE\n"
     ]
    }
   ],
   "source": [
    "\n",
    "qaNIGHTS= qa['NIGHTS'][0]\n",
    "qaEXPOSURES = qaNIGHTS['EXPOSURES']\n",
    "qaNIGHT = qaNIGHTS['NIGHT']\n",
    "\n",
    "print qaEXPOSURES[0].keys()\n",
    "qaCAMERAS, qaFLAVOR, qaEXPID = qaEXPOSURES[0]['CAMERAS'], qaEXPOSURES[0]['FLAVOR'], qaEXPOSURES[0]['EXPID']\n",
    "\n",
    "qaFLAVOR,\n",
    "qaEXPID \n",
    "\n",
    "qaCAMERA, qaPIPELINE= [qaCAMERAS[0][i] for i in qaCAMERAS[0].keys()]\n",
    "\n",
    "print qaCAMERA\n",
    "\n",
    "print 'as', qaPIPELINE[0].keys()\n",
    "qa_pipeline_list = [qaPIPELINE[0][i] for i in qaPIPELINE[0].keys()]\n",
    "print('\\n')\n",
    "for i in range(len( qa_pipeline_list)):\n",
    "    \n",
    "    try: print ('%s :  %s' %(qaPIPELINE[0].keys()[i], qa_pipeline_list[i].keys()) )\n",
    "    except: print ('\\n%s :  %s' %(qaPIPELINE[0].keys()[i], qa_pipeline_list[i]))\n",
    "        \n",
    "for i in qa_pipeline_list[1].keys():\n",
    "    print'--',i\n",
    "    "
   ]
  },
  {
   "cell_type": "code",
   "execution_count": 5,
   "metadata": {},
   "outputs": [
    {
     "name": "stdout",
     "output_type": "stream",
     "text": [
      "['20190101']\n"
     ]
    }
   ],
   "source": [
    "qa2 = yaml.load(open('../quicklook/spectro/redux/calib2d/20190101/ql-mergedQA-b0-00000003.yaml'))\n",
    "\n"
   ]
  },
  {
   "cell_type": "code",
   "execution_count": 17,
   "metadata": {},
   "outputs": [
    {
     "name": "stdout",
     "output_type": "stream",
     "text": [
      "['flavor', 'b0']\n"
     ]
    }
   ],
   "source": [
    "print qa2['20190101'][3].keys()"
   ]
  },
  {
   "cell_type": "code",
   "execution_count": 20,
   "metadata": {},
   "outputs": [
    {
     "name": "stdout",
     "output_type": "stream",
     "text": [
      "science\n",
      "['INITIALIZE', 'PREPROC', 'SKYSUB_QL', 'APPLYFIBERFLAT_QL', 'BOXCAREXTRACT']\n"
     ]
    }
   ],
   "source": [
    "print qa2['20190101'][3]['flavor']\n",
    "print qa2['20190101'][3]['b0'].keys()"
   ]
  },
  {
   "cell_type": "code",
   "execution_count": 26,
   "metadata": {},
   "outputs": [
    {
     "name": "stdout",
     "output_type": "stream",
     "text": [
      "        INITIALIZE ['METRICS', 'PARAMS']\n",
      "           PREPROC ['METRICS', 'PARAMS']\n",
      "         SKYSUB_QL ['METRICS', 'PARAMS']\n",
      " APPLYFIBERFLAT_QL ['METRICS', 'PARAMS']\n",
      "     BOXCAREXTRACT ['METRICS', 'PARAMS']\n"
     ]
    }
   ],
   "source": [
    "for k in ['INITIALIZE', 'PREPROC', 'SKYSUB_QL', 'APPLYFIBERFLAT_QL', 'BOXCAREXTRACT']:\n",
    "    print '%18s'% k, qa2['20190101'][3]['b0'][k].keys()"
   ]
  },
  {
   "cell_type": "markdown",
   "metadata": {},
   "source": [
    "### METRICS KEYS"
   ]
  },
  {
   "cell_type": "code",
   "execution_count": 37,
   "metadata": {},
   "outputs": [
    {
     "name": "stdout",
     "output_type": "stream",
     "text": [
      "\n",
      "INITIALIZE:\n",
      "**   METRICS:\n",
      "['DATA5SIG', 'BIASDIFF_ERR', 'BIAS_AMP', 'DIFF1SIG', 'BIAS', 'DIFF3SIG', 'DIFF2SIG', 'MEANBIAS_ROW']\n",
      "**    PARAMS:\n",
      "['DIFF_ALARM_RANGE', 'PERCENTILES', 'DIFF_WARN_RANGE']\n",
      "\n",
      "PREPROC:\n",
      "**   METRICS:\n",
      "['XSHIFT_FIB', 'NPIX_ERR', 'WSHIFT_AMP', 'EXPNUM_WARN', 'SHIFT_ERR', 'RMS_AMP', 'XSHIFT', 'NPIX_HIGH', 'NPIX_LOW', 'XSIGMA_MED', 'XSIGMA_MED_SKY', 'WSHIFT', 'NPIX_HIGH_AMP', 'XSHIFT_AMP', 'RMS_OVER_AMP', 'RMS', 'DEC', 'XSIGMA', 'NPIX_LOW_AMP', 'RMS_OVER', 'XSIGMA_AMP', 'WSIGMA_MED', 'RMSDIFF_ERR', 'WSHIFT_FIB', 'WSIGMA_MED_SKY', 'RA', 'WSIGMA', 'RMS_ROW', 'WSIGMA_AMP']\n",
      "**    PARAMS:\n",
      "['B_PEAKS', 'WSHIFT_ALARM_RANGE', 'RMS_WARN_RANGE', 'NPIX_ALARM_RANGE', 'CUTLO', 'R_PEAKS', 'XSHIFT_WARN_RANGE', 'XSHIFT_ALARM_RANGE', 'CUTHI', 'NPIX_WARN_RANGE', 'Z_PEAKS', 'RMS_ALARM_RANGE', 'WSHIFT_WARN_RANGE']\n",
      "\n",
      "SKYSUB_QL:\n",
      "**   METRICS:\n",
      "['ELG_FITRESULTS', 'STAR_FIDMAG_SNR', 'ELG_FIDMAG_SNR', 'STAR_FIBERID', 'STAR_SNR_MAG', 'MEDIAN_SNR', 'INTEG', 'QSO_FITRESULTS', 'MAGDIFF_ERR', 'INTEG_AVG_AMP', 'NUM_NEGATIVE_SNR', 'DEC', 'LRG_FIDMAG_SNR', 'QSO_SNR_MAG', 'LRG_FITRESULTS', 'FIDSNR_WARN', 'LRG_SNR_MAG', 'QSO_FIDMAG_SNR', 'LRG_FIBERID', 'STD_FIBERID', 'STAR_FITRESULTS', 'ELG_SNR_MAG', 'MAGDIFF_AVG_AMP', 'ELG_FIBERID', 'INTEG_AVG', 'QSO_FIBERID', 'MAGDIFF_AVG', 'RA']\n",
      "**    PARAMS:\n",
      "['FIDSNR_WARN_RANGE', 'FIDSNR_ALARM_RANGE', 'MAGDIFF_ALARM_RANGE', 'FIDMAG', 'MAGDIFF_WARN_RANGE']\n",
      "\n",
      "APPLYFIBERFLAT_QL:\n",
      "**   METRICS:\n",
      "['SKYCONT_ERR', 'DEC', 'SUMCOUNT_MED_SKY', 'SKYCONT', 'SUMCOUNT_RMS', 'SUMCOUNT_RMS_AMP', 'RA', 'SUMCOUNT', 'SUMCOUNT_RMS_SKY', 'SUMCOUNT_ERR', 'SKYCONT_AMP', 'SKYCONT_FIBER', 'SKYFIBERID']\n",
      "**    PARAMS:\n",
      "['B_PEAKS', 'SKYCONT_ALARM_RANGE', 'R_CONT', 'SUMCOUNT_WARN_RANGE', 'Z_CONT', 'R_PEAKS', 'B_CONT', 'Z_PEAKS', 'SKYCONT_WARN_RANGE', 'SUMCOUNT_ALARM_RANGE']\n",
      "\n",
      "BOXCAREXTRACT:\n",
      "**   METRICS:\n",
      "['NBINSHI_TEMP', 'NBINSHIGH_AMP', 'NBINSLOW_AMP', 'NBINSMED_AMP', 'NBINSLOW', 'RA', 'NGOOD_ERR', 'NBINSHIGH', 'DEC', 'NBINSMED', 'NGOODFIBERS']\n",
      "**    PARAMS:\n",
      "['CUTHI', 'CUTLO', 'CUTMED', 'NGOOD_ALARM_RANGE', 'NGOOD_WARN_RANGE']\n"
     ]
    }
   ],
   "source": [
    "night ='20190101'\n",
    "exp=3\n",
    "cam ='b0'\n",
    "for k in ['INITIALIZE', 'PREPROC', 'SKYSUB_QL', 'APPLYFIBERFLAT_QL', 'BOXCAREXTRACT']:\n",
    "    print '\\n%s:'%k \n",
    "    for k2 in ['METRICS', 'PARAMS']:\n",
    "        print '**%10s:\\n'%k2,qa2[night][exp][cam][k][k2].keys()"
   ]
  },
  {
   "cell_type": "markdown",
   "metadata": {},
   "source": [
    "## FIND ALERT: "
   ]
  },
  {
   "cell_type": "code",
   "execution_count": 44,
   "metadata": {},
   "outputs": [
    {
     "name": "stdout",
     "output_type": "stream",
     "text": [
      "\n",
      "INITIALIZE:\n",
      " BIASDIFF_ERR: NORMAL\n",
      "\n",
      "PREPROC:\n",
      "     NPIX_ERR: ALARM\n",
      "    SHIFT_ERR: NORMAL\n",
      "  RMSDIFF_ERR: ALARM\n",
      "\n",
      "SKYSUB_QL:\n",
      "  MAGDIFF_ERR: NORMAL\n",
      "  FIDSNR_WARN: ALARM\n",
      "\n",
      "APPLYFIBERFLAT_QL:\n",
      "  SKYCONT_ERR: NORMAL\n",
      " SUMCOUNT_ERR: ALARM\n",
      "\n",
      "BOXCAREXTRACT:\n",
      "    NGOOD_ERR: ALARM\n"
     ]
    }
   ],
   "source": [
    "night ='20190101'\n",
    "exp=3\n",
    "cam ='b0'\n",
    "alert_qa=[]\n",
    "alert_step ={}\n",
    "\n",
    "# enter in steps\n",
    "for k in ['INITIALIZE', 'PREPROC', 'SKYSUB_QL', 'APPLYFIBERFLAT_QL', 'BOXCAREXTRACT']:\n",
    "    print '\\n%s:'%k \n",
    "    aux = []\n",
    "    # enter in metrics:\n",
    "    for k2 in ['METRICS']:\n",
    "        # find alerts inside the metrics for eac in keys:\n",
    "        for k3 in qa2[night][exp][cam][k][k2].keys():\n",
    "            if qa2[night][exp][cam][k][k2][k3] in ['ALARM', 'WARN', 'NORMAL']:\n",
    "                print '%13s:'%k3, qa2[night][exp][cam][k][k2][k3]\n",
    "                alert_qa.append(k3)\n",
    "                aux.append(k3)\n",
    "    alert_step.update({k:aux})\n",
    "                "
   ]
  },
  {
   "cell_type": "code",
   "execution_count": 49,
   "metadata": {},
   "outputs": [
    {
     "name": "stdout",
     "output_type": "stream",
     "text": [
      "['BIASDIFF_ERR', 'NPIX_ERR', 'SHIFT_ERR', 'RMSDIFF_ERR', 'MAGDIFF_ERR', 'FIDSNR_WARN', 'SKYCONT_ERR', 'SUMCOUNT_ERR', 'NGOOD_ERR'] 9\n",
      "{'INITIALIZE': ['BIASDIFF_ERR'], 'PREPROC': ['NPIX_ERR', 'SHIFT_ERR', 'RMSDIFF_ERR'], 'SKYSUB_QL': ['MAGDIFF_ERR', 'FIDSNR_WARN'], 'APPLYFIBERFLAT_QL': ['SKYCONT_ERR', 'SUMCOUNT_ERR'], 'BOXCAREXTRACT': ['NGOOD_ERR']}\n"
     ]
    }
   ],
   "source": [
    "print alert_qa, len(alert_qa)\n",
    "print alert_step"
   ]
  },
  {
   "cell_type": "code",
   "execution_count": 50,
   "metadata": {},
   "outputs": [
    {
     "data": {
      "text/plain": [
       "['NBINSHI_TEMP',\n",
       " 'NBINSHIGH_AMP',\n",
       " 'NBINSLOW_AMP',\n",
       " 'NBINSMED_AMP',\n",
       " 'NBINSLOW',\n",
       " 'RA',\n",
       " 'NGOOD_ERR',\n",
       " 'NBINSHIGH',\n",
       " 'DEC',\n",
       " 'NBINSMED',\n",
       " 'NGOODFIBERS']"
      ]
     },
     "execution_count": 50,
     "metadata": {},
     "output_type": "execute_result"
    }
   ],
   "source": [
    "qa2[night][exp][cam][k][k2].keys()"
   ]
  },
  {
   "cell_type": "code",
   "execution_count": null,
   "metadata": {
    "collapsed": true
   },
   "outputs": [],
   "source": []
  }
 ],
 "metadata": {
  "kernelspec": {
   "display_name": "Python 2",
   "language": "python",
   "name": "python2"
  },
  "language_info": {
   "codemirror_mode": {
    "name": "ipython",
    "version": 2
   },
   "file_extension": ".py",
   "mimetype": "text/x-python",
   "name": "python",
   "nbconvert_exporter": "python",
   "pygments_lexer": "ipython2",
   "version": "2.7.13"
  }
 },
 "nbformat": 4,
 "nbformat_minor": 2
}
