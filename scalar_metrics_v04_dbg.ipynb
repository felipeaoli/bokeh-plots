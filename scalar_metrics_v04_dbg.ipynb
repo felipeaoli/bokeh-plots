{
 "cells": [
  {
   "cell_type": "markdown",
   "metadata": {},
   "source": [
    "SCALAR METRIC DEBBUGER FOR VERSION 04 "
   ]
  },
  {
   "cell_type": "code",
   "execution_count": 3,
   "metadata": {},
   "outputs": [],
   "source": [
    "import importlib\n",
    "\n",
    "import scalar_metrics_v04\n",
    "importlib.reload(scalar_metrics_v04)\n",
    "from scalar_metrics_v03 import LoadMetrics"
   ]
  },
  {
   "cell_type": "code",
   "execution_count": 4,
   "metadata": {},
   "outputs": [
    {
     "name": "stdout",
     "output_type": "stream",
     "text": [
      "\n",
      "\n",
      "Tests for the available scalars and using yaml output\n",
      " ==================================================\n",
      "TO DO:\n",
      " *docs of functions \n",
      " *what more else?\n",
      "\n",
      "\n",
      "check *rms_over *bias *SUMCOUNT_RMS shouldbe SUMCOUNT_MED_SKYResigf  skyresid- residrms\n",
      "countpix: yaml not found\n",
      "/home/foliveira/quicklook/spectro/redux/exposures/20190101/00000003/ql-countpix-z9-00000003.yaml\n",
      "loading getbias\n",
      "/home/foliveira/quicklook/spectro/redux/exposures/20190101/00000003/ql-getbias-z9-00000003.yaml\n",
      "loading getrms\n",
      "/home/foliveira/quicklook/spectro/redux/exposures/20190101/00000003/ql-getrms-z9-00000003.yaml\n",
      "loading xwsigma\n",
      "/home/foliveira/quicklook/spectro/redux/exposures/20190101/00000003/ql-xwsigma-z9-00000003.yaml\n",
      "countbins: yaml not found\n",
      "/home/foliveira/quicklook/spectro/redux/exposures/20190101/00000003/ql-countbins-z9-00000003.yaml\n",
      "loading integ\n",
      "/home/foliveira/quicklook/spectro/redux/exposures/20190101/00000003/ql-integ-z9-00000003.yaml\n",
      "loading skycont\n",
      "/home/foliveira/quicklook/spectro/redux/exposures/20190101/00000003/ql-skycont-z9-00000003.yaml\n",
      "loading skypeak\n",
      "/home/foliveira/quicklook/spectro/redux/exposures/20190101/00000003/ql-skypeak-z9-00000003.yaml\n",
      "loading skyresid\n",
      "/home/foliveira/quicklook/spectro/redux/exposures/20190101/00000003/ql-skyresid-z9-00000003.yaml\n",
      "loading snr\n",
      "/home/foliveira/quicklook/spectro/redux/exposures/20190101/00000003/ql-snr-z9-00000003.yaml\n"
     ]
    }
   ],
   "source": [
    "cam, exp, night = 'z9', '00000003', '20190101'\n",
    "\n",
    "print (\"\\n\\nTests for the available scalars and using yaml output\\n\", \"=\"*50)\n",
    "print (\"TO DO:\\n *docs of functions \\n *what more else?\\n\\n\")\n",
    "\n",
    "lm = LoadMetrics(cam, exp, night);"
   ]
  },
  {
   "cell_type": "code",
   "execution_count": 5,
   "metadata": {},
   "outputs": [],
   "source": [
    "metrics, tests  = lm.metrics, lm.tests"
   ]
  },
  {
   "cell_type": "code",
   "execution_count": 6,
   "metadata": {},
   "outputs": [
    {
     "name": "stdout",
     "output_type": "stream",
     "text": [
      "countbins\n",
      "countpix\n"
     ]
    }
   ],
   "source": [
    "alert_keys = {}\n",
    "alert_qa   ={}\n",
    "for i in metrics.keys():\n",
    "    try: \n",
    "        for k in metrics[i].keys():\n",
    "            if metrics[i][k] in ['ALARM', 'WARN', 'UNKNOWN', 'NORMAL']:\n",
    "                alert_keys.update({i:k})\n",
    "                alert_qa.update({i:metrics[i][k]})\n",
    "            \n",
    "    except:\n",
    "        print(i)"
   ]
  },
  {
   "cell_type": "code",
   "execution_count": 7,
   "metadata": {},
   "outputs": [
    {
     "name": "stdout",
     "output_type": "stream",
     "text": [
      "{'xwsigma': 'XWSIGMA_STAT', 'skyresid': 'RESIDRMS_STAT', 'getbias': 'BIAS_STAT', 'skypeak': 'PEAKCOUNT_STAT', 'skycont': 'SKYCONT_STAT', 'snr': 'FIDSNR_STAT', 'integ': 'MAGDIFF_STAT', 'getrms': 'NOISE_STAT'}\n",
      "{'xwsigma': 'NORMAL', 'skyresid': 'NORMAL', 'getbias': 'NORMAL', 'skypeak': 'NORMAL', 'skycont': 'NORMAL', 'snr': 'NORMAL', 'integ': 'NORMAL', 'getrms': 'NORMAL'}\n"
     ]
    }
   ],
   "source": [
    "print(alert_keys)\n",
    "print(alert_qa)\n",
    "#print(lm.step_color('preproc'))"
   ]
  },
  {
   "cell_type": "code",
   "execution_count": 8,
   "metadata": {},
   "outputs": [
    {
     "name": "stdout",
     "output_type": "stream",
     "text": [
      "      xwsigma NORMAL\n",
      "     skyresid NORMAL\n",
      "      getbias NORMAL\n",
      "        integ NORMAL\n",
      "          snr NORMAL\n",
      "      skycont NORMAL\n"
     ]
    },
    {
     "ename": "KeyError",
     "evalue": "'countbins'",
     "output_type": "error",
     "traceback": [
      "\u001b[0;31m---------------------------------------------------------------------------\u001b[0m",
      "\u001b[0;31mKeyError\u001b[0m                                  Traceback (most recent call last)",
      "\u001b[0;32m<ipython-input-8-f5869842a479>\u001b[0m in \u001b[0;36m<module>\u001b[0;34m()\u001b[0m\n\u001b[1;32m      1\u001b[0m \u001b[0mlm\u001b[0m\u001b[0;34m.\u001b[0m\u001b[0mmetrics\u001b[0m\u001b[0;34m[\u001b[0m\u001b[0;34m'skycont'\u001b[0m\u001b[0;34m]\u001b[0m\u001b[0;34m[\u001b[0m\u001b[0;34m'SKYCONT_STAT'\u001b[0m\u001b[0;34m]\u001b[0m\u001b[0;34m\u001b[0m\u001b[0m\n\u001b[1;32m      2\u001b[0m \u001b[0;32mfor\u001b[0m \u001b[0miii\u001b[0m \u001b[0;32min\u001b[0m \u001b[0mlm\u001b[0m\u001b[0;34m.\u001b[0m\u001b[0mmetrics\u001b[0m\u001b[0;34m.\u001b[0m\u001b[0mkeys\u001b[0m\u001b[0;34m(\u001b[0m\u001b[0;34m)\u001b[0m\u001b[0;34m:\u001b[0m\u001b[0;34m\u001b[0m\u001b[0m\n\u001b[0;32m----> 3\u001b[0;31m     \u001b[0mprint\u001b[0m\u001b[0;34m(\u001b[0m\u001b[0;34m'%13s %s'\u001b[0m \u001b[0;34m%\u001b[0m \u001b[0;34m(\u001b[0m\u001b[0miii\u001b[0m\u001b[0;34m,\u001b[0m \u001b[0mlm\u001b[0m\u001b[0;34m.\u001b[0m\u001b[0mmetrics\u001b[0m\u001b[0;34m[\u001b[0m\u001b[0miii\u001b[0m\u001b[0;34m]\u001b[0m\u001b[0;34m[\u001b[0m\u001b[0malert_keys\u001b[0m\u001b[0;34m[\u001b[0m\u001b[0miii\u001b[0m\u001b[0;34m]\u001b[0m\u001b[0;34m]\u001b[0m\u001b[0;34m)\u001b[0m\u001b[0;34m)\u001b[0m\u001b[0;34m\u001b[0m\u001b[0m\n\u001b[0m",
      "\u001b[0;31mKeyError\u001b[0m: 'countbins'"
     ]
    }
   ],
   "source": [
    "lm.metrics['skycont']['SKYCONT_STAT']\n",
    "for iii in lm.metrics.keys():\n",
    "    print('%13s %s' % (iii, lm.metrics[iii][alert_keys[iii]]))"
   ]
  },
  {
   "cell_type": "code",
   "execution_count": 12,
   "metadata": {},
   "outputs": [],
   "source": [
    "step_name='preproc'"
   ]
  },
  {
   "cell_type": "code",
   "execution_count": 13,
   "metadata": {},
   "outputs": [],
   "source": [
    "steps_status = []\n",
    "\n",
    "\n",
    "steps_dic = {'preproc':['countpix', 'getbias','getrms', 'xwsigma'],\n",
    "                     'extract':['countbins'],\n",
    "                     'fiberfl':['integ','skycont','skypeak','skyresid'],\n",
    "                     'skysubs':['snr']}\n",
    "\n",
    "#!qlf for i in steps_dic[self.step_name]:\n",
    "for i in steps_dic[step_name]:\n",
    "    #print('%13s %s' % (i, lm.metrics[i][alert_keys[i]]))\n",
    "    try:\n",
    "        aux1 = lm.metrics[i][alert_keys[i]]\n",
    "        #!qlf aux1 = self.metrics[i][alert_keys[i]]\n",
    "    except:\n",
    "        aux1 = 'FAILURE'\n",
    "        \n",
    "    steps_status.append(aux1)\n"
   ]
  },
  {
   "cell_type": "code",
   "execution_count": 14,
   "metadata": {},
   "outputs": [
    {
     "name": "stdout",
     "output_type": "stream",
     "text": [
      "['FAILURE', 'NORMAL', 'NORMAL', 'NORMAL']\n"
     ]
    }
   ],
   "source": [
    "print( steps_status)"
   ]
  },
  {
   "cell_type": "code",
   "execution_count": null,
   "metadata": {},
   "outputs": [],
   "source": []
  },
  {
   "cell_type": "code",
   "execution_count": null,
   "metadata": {},
   "outputs": [],
   "source": [
    "print(lm.keys_from_scalars(  lm.params_keys) )\n",
    "print(lm.test_ranges( \"wsigma\", kind_of_test=\"warn\"))"
   ]
  },
  {
   "cell_type": "code",
   "execution_count": null,
   "metadata": {},
   "outputs": [],
   "source": [
    "lm.test_ranges('xsigma','alarm')\n",
    "qa='xwsigma'\n",
    "qaw='wsigma'\n",
    "qax='xsigma'\n",
    "print( lm.metric_dict[qaw])\n",
    "lm.metrics[qa][lm.metric_dict[qaw]]"
   ]
  },
  {
   "cell_type": "code",
   "execution_count": null,
   "metadata": {},
   "outputs": [],
   "source": [
    "lm.qa_status('xwsigma')"
   ]
  },
  {
   "cell_type": "code",
   "execution_count": null,
   "metadata": {},
   "outputs": [],
   "source": [
    "#print(lm.qa_status( \"xwsigma\"), \"\\n\"+\"=\"*79)\n",
    "\n",
    "#print( lm.metric_dict) #<--- Adicionar aqui valores a serem medidos de xsigma e wsigma\n",
    "\n",
    "steps_list = ['preproc', 'extract', 'fiberfl', 'skysubs']\n",
    "yyy = [lm.step_color( i_step) for i_step in ['preproc', 'extract', 'fiberfl', 'skysubs']]\n",
    "    \n",
    "print('\\n\\n Wedges Colors:\\n', yyy)"
   ]
  },
  {
   "cell_type": "markdown",
   "metadata": {},
   "source": [
    "## ===============\n",
    "# Debbuging\n"
   ]
  },
  {
   "cell_type": "code",
   "execution_count": null,
   "metadata": {
    "scrolled": true
   },
   "outputs": [],
   "source": [
    "importlib.reload(scalar_metrics_v03)\n",
    "from scalar_metrics_v03 import LoadMetrics\n",
    "\n",
    "cam_list = ['b0', 'r4', 'z3', 'z4', 'b8']\n",
    "exp, night =  '00000003', '20190101'\n",
    "\n",
    "l1=[]\n",
    "for i, cam in enumerate(cam_list[:1]): \n",
    "    print(cam,)\n",
    "    l1.append(LoadMetrics(cam,exp,night))"
   ]
  },
  {
   "cell_type": "code",
   "execution_count": null,
   "metadata": {},
   "outputs": [],
   "source": [
    "print(l1)"
   ]
  },
  {
   "cell_type": "code",
   "execution_count": null,
   "metadata": {},
   "outputs": [],
   "source": [
    "steps_list = ['preproc', 'extract', 'fiberfl', 'skysubs']\n",
    "print (l1[0].step_color(steps_list[0]))"
   ]
  },
  {
   "cell_type": "code",
   "execution_count": null,
   "metadata": {
    "scrolled": true
   },
   "outputs": [],
   "source": [
    "qa='snr'\n",
    "l1[0].Load_qa(qa);\n",
    "# lm.Load_metrics_n_tests();"
   ]
  },
  {
   "cell_type": "code",
   "execution_count": null,
   "metadata": {},
   "outputs": [],
   "source": [
    "??LoadMetrics"
   ]
  },
  {
   "cell_type": "code",
   "execution_count": null,
   "metadata": {},
   "outputs": [],
   "source": [
    "#print (l1[3].keys_from_scalars( l1[3].params_keys))\n",
    "        #test_ranges(self, qa, kind_of_test)\n",
    "l1[0].qa_status(qa)\n",
    "#l1[0].step_color( step_name)"
   ]
  },
  {
   "cell_type": "code",
   "execution_count": null,
   "metadata": {},
   "outputs": [],
   "source": [
    "l1[0].Load_qa(qa)\n",
    "#l1[0].Load_metrics_n_tests()\n",
    "l1[0].keys_from_scalars(l1[0].params_keys)\n",
    "\n",
    "l1[0].test_ranges( qa, 'warn')\n",
    "l1[0].qa_status( qa)\n",
    "for i in steps_list:\n",
    "    print( '***',i, l1[0].step_color(i))"
   ]
  },
  {
   "cell_type": "code",
   "execution_count": null,
   "metadata": {
    "scrolled": true
   },
   "outputs": [],
   "source": [
    "metrics_list= ['getbias','getrms','skycont', 'countbins', 'countpix', 'snr'\n",
    "                                ,'skyresid', 'skypeak',  'integ',  'xsigma', 'wsigma'   ]\n",
    "l1[0].metrics['getrms'].keys()\n",
    "\n",
    "mymetric = l1[0].metrics['getbias']\n",
    "print (mymetric.keys())\n",
    "mymetric['BIASDIFF_ERR']"
   ]
  },
  {
   "cell_type": "markdown",
   "metadata": {},
   "source": [
    "                  MINE        BOB\n",
    "skypeak  \t| SUMCOUNT_RMS  | Ok corrected to > SUMCOUNT_MED_SKY \n",
    "wsigma  \t| WSHIFT   \t    | Ok\n",
    "getrms  \t| RMS_OVER   \t| ? between mean in active vs. overscan\n",
    "xsigma  \t| XSHIFT   \t    | Ok\n",
    "skyresid  \t| MED_RESID   \t| Ok corrected to > RESID_RMS\n",
    "getbias  \t| BIAS   \t    | ? between mean in active vs. overscan\n",
    "  integ  \t| MAGDIFF_AVG   | Ok MAGDIFF_AVG\n",
    "countpix  \t| NPIX_LOW   \t| Ok NPIX_LOW\n",
    "   snr    \t| ELG_FIDMAG_SNR| Ok * (Should I test STAR too?)\n",
    "skycont  \t| SKYCONT   \t| Ok SKYCONT \n",
    "countbins  \t| NGOODFIBERS   | ? (not specified)"
   ]
  },
  {
   "cell_type": "markdown",
   "metadata": {},
   "source": [
    "### what is inside skypeak"
   ]
  },
  {
   "cell_type": "code",
   "execution_count": null,
   "metadata": {},
   "outputs": [],
   "source": [
    "skp_lst = list(l1[0].metrics['skypeak'].keys())\n",
    "mym = metrics['skypeak']\n",
    "for i in skp_lst:\n",
    "    if isinstance(mym[i], float):\n",
    "        print('%18s' % i, mym[i])\n",
    "    elif isinstance(mym[i], list):\n",
    "        print('%18s' % i, len(mym[i]), '**' )\n",
    "    elif isinstance(mym[i], int):\n",
    "        print('%18s' % i, mym[i])\n",
    "    else:\n",
    "        print('%18s' % i, type(mym[i]))"
   ]
  }
 ],
 "metadata": {
  "kernelspec": {
   "display_name": "Python 3",
   "language": "python",
   "name": "python3"
  },
  "language_info": {
   "codemirror_mode": {
    "name": "ipython",
    "version": 3
   },
   "file_extension": ".py",
   "mimetype": "text/x-python",
   "name": "python",
   "nbconvert_exporter": "python",
   "pygments_lexer": "ipython3",
   "version": "3.5.4"
  }
 },
 "nbformat": 4,
 "nbformat_minor": 2
}
