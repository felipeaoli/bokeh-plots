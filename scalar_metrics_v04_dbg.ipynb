{
 "cells": [
  {
   "cell_type": "markdown",
   "metadata": {},
   "source": [
    "SCALAR METRIC DEBBUGER FOR VERSION 04 "
   ]
  },
  {
   "cell_type": "code",
   "execution_count": 1,
   "metadata": {},
   "outputs": [],
   "source": [
    "import importlib\n",
    "\n",
    "import scalar_metrics_v04\n",
    "importlib.reload(scalar_metrics_v04)\n",
    "from scalar_metrics_v03 import LoadMetrics"
   ]
  },
  {
   "cell_type": "code",
   "execution_count": 3,
   "metadata": {},
   "outputs": [
    {
     "name": "stdout",
     "output_type": "stream",
     "text": [
      "\n",
      "\n",
      "Tests for the available scalars and using yaml output\n",
      " ==================================================\n",
      "TO DO:\n",
      " *docs of functions \n",
      " *what more else?\n",
      "\n",
      "\n",
      "check *rms_over *bias *SUMCOUNT_RMS shouldbe SUMCOUNT_MED_SKYResigf  skyresid- residrms\n",
      "loading countpix\n",
      "/home/foliveira/quicklook/spectro/redux/exposures/20190101/00000003/ql-countpix-z9-00000003.yaml\n",
      "loading getbias\n",
      "/home/foliveira/quicklook/spectro/redux/exposures/20190101/00000003/ql-getbias-z9-00000003.yaml\n",
      "loading getrms\n",
      "/home/foliveira/quicklook/spectro/redux/exposures/20190101/00000003/ql-getrms-z9-00000003.yaml\n",
      "loading xwsigma\n",
      "/home/foliveira/quicklook/spectro/redux/exposures/20190101/00000003/ql-xwsigma-z9-00000003.yaml\n",
      "loading countbins\n",
      "/home/foliveira/quicklook/spectro/redux/exposures/20190101/00000003/ql-countbins-z9-00000003.yaml\n",
      "loading integ\n",
      "/home/foliveira/quicklook/spectro/redux/exposures/20190101/00000003/ql-integ-z9-00000003.yaml\n",
      "loading skycont\n",
      "/home/foliveira/quicklook/spectro/redux/exposures/20190101/00000003/ql-skycont-z9-00000003.yaml\n",
      "loading skypeak\n",
      "/home/foliveira/quicklook/spectro/redux/exposures/20190101/00000003/ql-skypeak-z9-00000003.yaml\n",
      "skyresid: yaml not found\n",
      "/home/foliveira/quicklook/spectro/redux/exposures/20190101/00000003/ql-skyresid-z9-00000003.yaml\n",
      "loading snr\n",
      "/home/foliveira/quicklook/spectro/redux/exposures/20190101/00000003/ql-snr-z9-00000003.yaml\n"
     ]
    }
   ],
   "source": [
    "cam, exp, night = 'z9', '00000003', '20190101'\n",
    "\n",
    "print (\"\\n\\nTests for the available scalars and using yaml output\\n\", \"=\"*50)\n",
    "print (\"TO DO:\\n *docs of functions \\n *what more else?\\n\\n\")\n",
    "\n",
    "lm = LoadMetrics(cam, exp, night);"
   ]
  },
  {
   "cell_type": "code",
   "execution_count": 5,
   "metadata": {},
   "outputs": [],
   "source": [
    "metrics, tests  = lm.metrics, lm.tests"
   ]
  },
  {
   "cell_type": "code",
   "execution_count": 23,
   "metadata": {},
   "outputs": [
    {
     "name": "stdout",
     "output_type": "stream",
     "text": [
      "skyresid\n"
     ]
    }
   ],
   "source": [
    "alert_keys = {}\n",
    "alert_qa   ={}\n",
    "for i in metrics.keys():\n",
    "    try: \n",
    "        for k in metrics[i].keys():\n",
    "            if metrics[i][k] in ['ALARM', 'WARN', 'UNKNOWN', 'NORMAL']:\n",
    "                alert_keys.update({k:i})\n",
    "                alert_qa.update({i:metrics[i][k]})\n",
    "            \n",
    "    except:\n",
    "        print(i)"
   ]
  },
  {
   "cell_type": "code",
   "execution_count": 22,
   "metadata": {},
   "outputs": [
    {
     "name": "stdout",
     "output_type": "stream",
     "text": [
      "{'getrms': 'NOISE_STAT', 'getbias': 'BIAS_STAT', 'countbins': 'NGOODFIB_STAT', 'integ': 'MAGDIFF_STAT', 'xwsigma': 'XWSIGMA_STAT', 'snr': 'FIDSNR_STAT', 'skycont': 'SKYCONT_STAT', 'skypeak': 'PEAKCOUNT_STAT', 'countpix': 'NPIX_STAT'}\n",
      "{'getrms': 'NORMAL', 'getbias': 'NORMAL', 'countbins': 'NORMAL', 'integ': 'NORMAL', 'xwsigma': 'NORMAL', 'snr': 'NORMAL', 'skycont': 'NORMAL', 'skypeak': 'NORMAL', 'countpix': 'NORMAL'}\n",
      "init_error {'skycont': False, 'getbias': False, 'countbins': False, 'integ': False, 'xwsigma': False, 'skyresid': True, 'getrms': False, 'skypeak': False, 'snr': False, 'countpix': False}\n",
      "countpix False\n"
     ]
    },
    {
     "ename": "KeyError",
     "evalue": "'NPIX_ALARM_RANGE'",
     "output_type": "error",
     "traceback": [
      "\u001b[0;31m---------------------------------------------------------------------------\u001b[0m",
      "\u001b[0;31mKeyError\u001b[0m                                  Traceback (most recent call last)",
      "\u001b[0;32m<ipython-input-22-7df64810261a>\u001b[0m in \u001b[0;36m<module>\u001b[0;34m()\u001b[0m\n\u001b[1;32m      1\u001b[0m \u001b[0mprint\u001b[0m\u001b[0;34m(\u001b[0m\u001b[0malert_keys\u001b[0m\u001b[0;34m)\u001b[0m\u001b[0;34m\u001b[0m\u001b[0m\n\u001b[1;32m      2\u001b[0m \u001b[0mprint\u001b[0m\u001b[0;34m(\u001b[0m\u001b[0malert_qa\u001b[0m\u001b[0;34m)\u001b[0m\u001b[0;34m\u001b[0m\u001b[0m\n\u001b[0;32m----> 3\u001b[0;31m \u001b[0mprint\u001b[0m\u001b[0;34m(\u001b[0m\u001b[0mlm\u001b[0m\u001b[0;34m.\u001b[0m\u001b[0mstep_color\u001b[0m\u001b[0;34m(\u001b[0m\u001b[0;34m'preproc'\u001b[0m\u001b[0;34m)\u001b[0m\u001b[0;34m)\u001b[0m\u001b[0;34m\u001b[0m\u001b[0m\n\u001b[0m",
      "\u001b[0;32m~/bokeh-plots/scalar_metrics_v03.py\u001b[0m in \u001b[0;36mstep_color\u001b[0;34m(self, step_name)\u001b[0m\n\u001b[1;32m    337\u001b[0m \u001b[0;34m\u001b[0m\u001b[0m\n\u001b[1;32m    338\u001b[0m             \u001b[0;32melse\u001b[0m\u001b[0;34m:\u001b[0m\u001b[0;34m\u001b[0m\u001b[0m\n\u001b[0;32m--> 339\u001b[0;31m                 \u001b[0maux1\u001b[0m \u001b[0;34m=\u001b[0m \u001b[0mself\u001b[0m\u001b[0;34m.\u001b[0m\u001b[0mqa_status\u001b[0m\u001b[0;34m(\u001b[0m\u001b[0mi\u001b[0m\u001b[0;34m)\u001b[0m\u001b[0;34m\u001b[0m\u001b[0m\n\u001b[0m\u001b[1;32m    340\u001b[0m                 \u001b[0msteps_status\u001b[0m\u001b[0;34m.\u001b[0m\u001b[0mappend\u001b[0m\u001b[0;34m(\u001b[0m\u001b[0maux1\u001b[0m\u001b[0;34m)\u001b[0m\u001b[0;34m\u001b[0m\u001b[0m\n\u001b[1;32m    341\u001b[0m                 \u001b[0;31m#pass\u001b[0m\u001b[0;34m\u001b[0m\u001b[0;34m\u001b[0m\u001b[0m\n",
      "\u001b[0;32m~/bokeh-plots/scalar_metrics_v03.py\u001b[0m in \u001b[0;36mqa_status\u001b[0;34m(self, qa)\u001b[0m\n\u001b[1;32m    279\u001b[0m         \u001b[0;31m# Original\u001b[0m\u001b[0;34m\u001b[0m\u001b[0;34m\u001b[0m\u001b[0m\n\u001b[1;32m    280\u001b[0m         \u001b[0;32melse\u001b[0m\u001b[0;34m:\u001b[0m\u001b[0;34m\u001b[0m\u001b[0m\n\u001b[0;32m--> 281\u001b[0;31m             \u001b[0malarm\u001b[0m \u001b[0;34m=\u001b[0m \u001b[0mself\u001b[0m\u001b[0;34m.\u001b[0m\u001b[0mtest_ranges\u001b[0m\u001b[0;34m(\u001b[0m\u001b[0mqa\u001b[0m\u001b[0;34m,\u001b[0m\u001b[0;34m'alarm'\u001b[0m\u001b[0;34m)\u001b[0m\u001b[0;34m\u001b[0m\u001b[0m\n\u001b[0m\u001b[1;32m    282\u001b[0m             \u001b[0mwarn\u001b[0m  \u001b[0;34m=\u001b[0m \u001b[0mself\u001b[0m\u001b[0;34m.\u001b[0m\u001b[0mtest_ranges\u001b[0m\u001b[0;34m(\u001b[0m\u001b[0mqa\u001b[0m\u001b[0;34m,\u001b[0m\u001b[0;34m'warn'\u001b[0m\u001b[0;34m)\u001b[0m\u001b[0;34m\u001b[0m\u001b[0m\n\u001b[1;32m    283\u001b[0m             \u001b[0mval\u001b[0m   \u001b[0;34m=\u001b[0m \u001b[0mself\u001b[0m\u001b[0;34m.\u001b[0m\u001b[0mmetrics\u001b[0m\u001b[0;34m[\u001b[0m\u001b[0mqa\u001b[0m\u001b[0;34m]\u001b[0m\u001b[0;34m[\u001b[0m\u001b[0mself\u001b[0m\u001b[0;34m.\u001b[0m\u001b[0mmetric_dict\u001b[0m\u001b[0;34m[\u001b[0m\u001b[0mqa\u001b[0m\u001b[0;34m]\u001b[0m\u001b[0;34m]\u001b[0m\u001b[0;34m\u001b[0m\u001b[0m\n",
      "\u001b[0;32m~/bokeh-plots/scalar_metrics_v03.py\u001b[0m in \u001b[0;36mtest_ranges\u001b[0;34m(self, qa, kind_of_test)\u001b[0m\n\u001b[1;32m    232\u001b[0m             \u001b[0mtest_range\u001b[0m \u001b[0;34m=\u001b[0m \u001b[0mtests\u001b[0m\u001b[0;34m[\u001b[0m\u001b[0mqa_2\u001b[0m\u001b[0;34m]\u001b[0m\u001b[0;34m[\u001b[0m\u001b[0mself\u001b[0m\u001b[0;34m.\u001b[0m\u001b[0md\u001b[0m\u001b[0;34m[\u001b[0m\u001b[0mself\u001b[0m\u001b[0;34m.\u001b[0m\u001b[0mqa\u001b[0m\u001b[0;34m]\u001b[0m\u001b[0;34m[\u001b[0m\u001b[0mself\u001b[0m\u001b[0;34m.\u001b[0m\u001b[0mkot\u001b[0m\u001b[0;34m]\u001b[0m\u001b[0;34m]\u001b[0m\u001b[0;34m\u001b[0m\u001b[0m\n\u001b[1;32m    233\u001b[0m         \u001b[0;32melse\u001b[0m\u001b[0;34m:\u001b[0m\u001b[0;34m\u001b[0m\u001b[0m\n\u001b[0;32m--> 234\u001b[0;31m             \u001b[0mtest_range\u001b[0m \u001b[0;34m=\u001b[0m \u001b[0mtests\u001b[0m\u001b[0;34m[\u001b[0m\u001b[0mqa\u001b[0m\u001b[0;34m]\u001b[0m\u001b[0;34m[\u001b[0m\u001b[0mself\u001b[0m\u001b[0;34m.\u001b[0m\u001b[0md\u001b[0m\u001b[0;34m[\u001b[0m\u001b[0mself\u001b[0m\u001b[0;34m.\u001b[0m\u001b[0mqa\u001b[0m\u001b[0;34m]\u001b[0m\u001b[0;34m[\u001b[0m\u001b[0mself\u001b[0m\u001b[0;34m.\u001b[0m\u001b[0mkot\u001b[0m\u001b[0;34m]\u001b[0m\u001b[0;34m]\u001b[0m\u001b[0;34m\u001b[0m\u001b[0m\n\u001b[0m\u001b[1;32m    235\u001b[0m \u001b[0;34m\u001b[0m\u001b[0m\n\u001b[1;32m    236\u001b[0m         \u001b[0;32mreturn\u001b[0m \u001b[0mtest_range\u001b[0m\u001b[0;34m\u001b[0m\u001b[0m\n",
      "\u001b[0;31mKeyError\u001b[0m: 'NPIX_ALARM_RANGE'"
     ]
    }
   ],
   "source": [
    "print(alert_keys)\n",
    "print(alert_qa)\n",
    "print(lm.step_color('preproc'))"
   ]
  },
  {
   "cell_type": "code",
   "execution_count": null,
   "metadata": {},
   "outputs": [],
   "source": []
  },
  {
   "cell_type": "code",
   "execution_count": null,
   "metadata": {},
   "outputs": [],
   "source": []
  },
  {
   "cell_type": "code",
   "execution_count": null,
   "metadata": {},
   "outputs": [],
   "source": []
  },
  {
   "cell_type": "code",
   "execution_count": null,
   "metadata": {},
   "outputs": [],
   "source": []
  },
  {
   "cell_type": "code",
   "execution_count": 7,
   "metadata": {},
   "outputs": [
    {
     "name": "stdout",
     "output_type": "stream",
     "text": [
      "{'countpix': {'alarm': 'NPIX_ALARM_RANGE', 'warn': 'NPIX_WARN_RANGE'}, 'getbias': {'alarm': 'DIFF_ALARM_RANGE', 'warn': 'DIFF_WARN_RANGE'}, 'wsigma': {'alarm': 'WSHIFT_ALARM_RANGE', 'warn': 'WSHIFT_WARN_RANGE'}, 'integ': {'alarm': 'MAGDIFF_ALARM_RANGE', 'warn': 'MAGDIFF_WARN_RANGE'}, 'skypeak': {'alarm': 'SUMCOUNT_ALARM_RANGE', 'warn': 'SUMCOUNT_WARN_RANGE'}, 'xsigma': {'alarm': 'XSHIFT_ALARM_RANGE', 'warn': 'XSHIFT_WARN_RANGE'}, 'snr': {'alarm': 'FIDSNR_ALARM_RANGE', 'warn': 'FIDSNR_WARN_RANGE'}, 'getrms': {'alarm': 'RMS_ALARM_RANGE', 'warn': 'RMS_WARN_RANGE'}, 'skycont': {'alarm': 'SKYCONT_ALARM_RANGE', 'warn': 'SKYCONT_WARN_RANGE'}, 'skyresid': {'alarm': 'SKY_ALARM_RANGE', 'warn': 'SKY_WARN_RANGE'}, 'countbins': {'alarm': 'NGOOD_ALARM_RANGE', 'warn': 'NGOOD_WARN_RANGE'}}\n",
      "[-2.0, 2.0]\n"
     ]
    }
   ],
   "source": [
    "print(lm.keys_from_scalars(  lm.params_keys) )\n",
    "print(lm.test_ranges( \"wsigma\", kind_of_test=\"warn\"))"
   ]
  },
  {
   "cell_type": "code",
   "execution_count": 8,
   "metadata": {},
   "outputs": [
    {
     "name": "stdout",
     "output_type": "stream",
     "text": [
      "WSHIFT\n"
     ]
    },
    {
     "data": {
      "text/plain": [
       "0.0"
      ]
     },
     "execution_count": 8,
     "metadata": {},
     "output_type": "execute_result"
    }
   ],
   "source": [
    "lm.test_ranges('xsigma','alarm')\n",
    "qa='xwsigma'\n",
    "qaw='wsigma'\n",
    "qax='xsigma'\n",
    "print( lm.metric_dict[qaw])\n",
    "lm.metrics[qa][lm.metric_dict[qaw]]"
   ]
  },
  {
   "cell_type": "code",
   "execution_count": 9,
   "metadata": {},
   "outputs": [
    {
     "data": {
      "text/plain": [
       "'NORMAL'"
      ]
     },
     "execution_count": 9,
     "metadata": {},
     "output_type": "execute_result"
    }
   ],
   "source": [
    "lm.qa_status('xwsigma')"
   ]
  },
  {
   "cell_type": "code",
   "execution_count": 10,
   "metadata": {},
   "outputs": [
    {
     "name": "stdout",
     "output_type": "stream",
     "text": [
      "init_error {'countpix': False, 'getbias': False, 'integ': False, 'skypeak': False, 'countbins': False, 'snr': False, 'getrms': False, 'skycont': False, 'xwsigma': False, 'skyresid': True}\n",
      "countpix False\n",
      "getbias False\n",
      "getrms False\n",
      "xwsigma False\n",
      "Steps_status: ['ALARM', 'NORMAL', 'ALARM', 'NORMAL']\n",
      "red\n",
      "init_error {'countpix': False, 'getbias': False, 'integ': False, 'skypeak': False, 'countbins': False, 'snr': False, 'getrms': False, 'skycont': False, 'xwsigma': False, 'skyresid': True}\n",
      "countbins False\n",
      "Steps_status: ['ALARM']\n",
      "red\n",
      "init_error {'countpix': False, 'getbias': False, 'integ': False, 'skypeak': False, 'countbins': False, 'snr': False, 'getrms': False, 'skycont': False, 'xwsigma': False, 'skyresid': True}\n",
      "integ False\n",
      "skycont False\n",
      "skypeak False\n",
      "skyresid True\n",
      "QL FAILURE\n",
      "Steps_status: ['NORMAL', 'NORMAL', 'ALARM', 'FAILURE']\n",
      "init_error {'countpix': False, 'getbias': False, 'integ': False, 'skypeak': False, 'countbins': False, 'snr': False, 'getrms': False, 'skycont': False, 'xwsigma': False, 'skyresid': True}\n",
      "snr False\n",
      "Steps_status: ['ALARM']\n",
      "red\n",
      "\n",
      "\n",
      " Wedges Colors:\n",
      " ['red', 'red', 'magenta', 'red']\n"
     ]
    }
   ],
   "source": [
    "#print(lm.qa_status( \"xwsigma\"), \"\\n\"+\"=\"*79)\n",
    "\n",
    "#print( lm.metric_dict) #<--- Adicionar aqui valores a serem medidos de xsigma e wsigma\n",
    "\n",
    "steps_list = ['preproc', 'extract', 'fiberfl', 'skysubs']\n",
    "yyy = [lm.step_color( i_step) for i_step in ['preproc', 'extract', 'fiberfl', 'skysubs']]\n",
    "    \n",
    "print('\\n\\n Wedges Colors:\\n', yyy)"
   ]
  },
  {
   "cell_type": "markdown",
   "metadata": {},
   "source": [
    "## ===============\n",
    "# Debbuging\n"
   ]
  },
  {
   "cell_type": "code",
   "execution_count": 13,
   "metadata": {
    "scrolled": true
   },
   "outputs": [
    {
     "name": "stdout",
     "output_type": "stream",
     "text": [
      "b0\n",
      "check *rms_over *bias *SUMCOUNT_RMS shouldbe SUMCOUNT_MED_SKYResigf  skyresid- residrms\n",
      "loading countpix\n",
      "/home/foliveira/quicklook/spectro/redux/exposures/20190101/00000003/ql-countpix-b0-00000003.yaml\n",
      "loading getbias\n",
      "/home/foliveira/quicklook/spectro/redux/exposures/20190101/00000003/ql-getbias-b0-00000003.yaml\n",
      "loading getrms\n",
      "/home/foliveira/quicklook/spectro/redux/exposures/20190101/00000003/ql-getrms-b0-00000003.yaml\n",
      "loading xwsigma\n",
      "/home/foliveira/quicklook/spectro/redux/exposures/20190101/00000003/ql-xwsigma-b0-00000003.yaml\n",
      "loading countbins\n",
      "/home/foliveira/quicklook/spectro/redux/exposures/20190101/00000003/ql-countbins-b0-00000003.yaml\n",
      "loading integ\n",
      "/home/foliveira/quicklook/spectro/redux/exposures/20190101/00000003/ql-integ-b0-00000003.yaml\n",
      "loading skycont\n",
      "/home/foliveira/quicklook/spectro/redux/exposures/20190101/00000003/ql-skycont-b0-00000003.yaml\n",
      "loading skypeak\n",
      "/home/foliveira/quicklook/spectro/redux/exposures/20190101/00000003/ql-skypeak-b0-00000003.yaml\n",
      "skyresid: yaml not found\n",
      "/home/foliveira/quicklook/spectro/redux/exposures/20190101/00000003/ql-skyresid-b0-00000003.yaml\n",
      "loading snr\n",
      "/home/foliveira/quicklook/spectro/redux/exposures/20190101/00000003/ql-snr-b0-00000003.yaml\n"
     ]
    }
   ],
   "source": [
    "importlib.reload(scalar_metrics_v03)\n",
    "from scalar_metrics_v03 import LoadMetrics\n",
    "\n",
    "cam_list = ['b0', 'r4', 'z3', 'z4', 'b8']\n",
    "exp, night =  '00000003', '20190101'\n",
    "\n",
    "l1=[]\n",
    "for i, cam in enumerate(cam_list[:1]): \n",
    "    print(cam,)\n",
    "    l1.append(LoadMetrics(cam,exp,night))"
   ]
  },
  {
   "cell_type": "code",
   "execution_count": 14,
   "metadata": {},
   "outputs": [
    {
     "name": "stdout",
     "output_type": "stream",
     "text": [
      "[<scalar_metrics_v03.LoadMetrics object at 0x7f987c0b3898>]\n"
     ]
    }
   ],
   "source": [
    "print(l1)"
   ]
  },
  {
   "cell_type": "code",
   "execution_count": 15,
   "metadata": {},
   "outputs": [
    {
     "name": "stdout",
     "output_type": "stream",
     "text": [
      "init_error {'countpix': False, 'getbias': False, 'integ': False, 'skypeak': False, 'countbins': False, 'snr': False, 'getrms': False, 'skycont': False, 'xwsigma': False, 'skyresid': True}\n",
      "countpix False\n",
      "getbias False\n",
      "getrms False\n",
      "xwsigma False\n",
      "Steps_status: ['ALARM', 'NORMAL', 'ALARM', 'NORMAL']\n",
      "red\n",
      "red\n"
     ]
    }
   ],
   "source": [
    "steps_list = ['preproc', 'extract', 'fiberfl', 'skysubs']\n",
    "print (l1[0].step_color(steps_list[0]))"
   ]
  },
  {
   "cell_type": "code",
   "execution_count": 174,
   "metadata": {
    "scrolled": true
   },
   "outputs": [
    {
     "name": "stdout",
     "output_type": "stream",
     "text": [
      "loading snr\n",
      "/home/foliveira/quicklook/spectro/redux/exposures/20190101/00000003/ql-snr-r3-00000003.yaml\n"
     ]
    }
   ],
   "source": [
    "qa='snr'\n",
    "l1[0].Load_qa(qa);\n",
    "# lm.Load_metrics_n_tests();"
   ]
  },
  {
   "cell_type": "code",
   "execution_count": 16,
   "metadata": {},
   "outputs": [],
   "source": [
    "??LoadMetrics"
   ]
  },
  {
   "cell_type": "code",
   "execution_count": 17,
   "metadata": {},
   "outputs": [
    {
     "data": {
      "text/plain": [
       "'NORMAL'"
      ]
     },
     "execution_count": 17,
     "metadata": {},
     "output_type": "execute_result"
    }
   ],
   "source": [
    "#print (l1[3].keys_from_scalars( l1[3].params_keys))\n",
    "        #test_ranges(self, qa, kind_of_test)\n",
    "l1[0].qa_status(qa)\n",
    "#l1[0].step_color( step_name)"
   ]
  },
  {
   "cell_type": "code",
   "execution_count": 177,
   "metadata": {},
   "outputs": [
    {
     "name": "stdout",
     "output_type": "stream",
     "text": [
      "loading snr\n",
      "/home/foliveira/quicklook/spectro/redux/exposures/20190101/00000003/ql-snr-r3-00000003.yaml\n",
      "init_error {'skypeak': False, 'getrms': False, 'getbias': False, 'skyresid': False, 'xwsigma': False, 'integ': False, 'countpix': False, 'snr': False, 'skycont': False, 'countbins': False}\n",
      "countpix False\n",
      "getbias False\n",
      "getrms False\n",
      "xwsigma False\n",
      "Steps_status: ['ALARM', 'NORMAL', 'ALARM', 'NORMAL']\n",
      "red\n",
      "*** preproc red\n",
      "init_error {'skypeak': False, 'getrms': False, 'getbias': False, 'skyresid': False, 'xwsigma': False, 'integ': False, 'countpix': False, 'snr': False, 'skycont': False, 'countbins': False}\n",
      "countbins False\n",
      "Steps_status: ['ALARM']\n",
      "red\n",
      "*** extract red\n",
      "init_error {'skypeak': False, 'getrms': False, 'getbias': False, 'skyresid': False, 'xwsigma': False, 'integ': False, 'countpix': False, 'snr': False, 'skycont': False, 'countbins': False}\n",
      "integ False\n",
      "skycont False\n",
      "skypeak False\n"
     ]
    },
    {
     "ename": "Exception",
     "evalue": "('Invalid variable type:[] in', 'skypeak')",
     "output_type": "error",
     "traceback": [
      "\u001b[0;31m---------------------------------------------------------------------------\u001b[0m",
      "\u001b[0;31mException\u001b[0m                                 Traceback (most recent call last)",
      "\u001b[0;32m<ipython-input-177-d93f3e416e90>\u001b[0m in \u001b[0;36m<module>\u001b[0;34m()\u001b[0m\n\u001b[1;32m      6\u001b[0m \u001b[0ml1\u001b[0m\u001b[0;34m[\u001b[0m\u001b[0;36m0\u001b[0m\u001b[0;34m]\u001b[0m\u001b[0;34m.\u001b[0m\u001b[0mqa_status\u001b[0m\u001b[0;34m(\u001b[0m \u001b[0mqa\u001b[0m\u001b[0;34m)\u001b[0m\u001b[0;34m\u001b[0m\u001b[0m\n\u001b[1;32m      7\u001b[0m \u001b[0;32mfor\u001b[0m \u001b[0mi\u001b[0m \u001b[0;32min\u001b[0m \u001b[0msteps_list\u001b[0m\u001b[0;34m:\u001b[0m\u001b[0;34m\u001b[0m\u001b[0m\n\u001b[0;32m----> 8\u001b[0;31m     \u001b[0mprint\u001b[0m\u001b[0;34m(\u001b[0m \u001b[0;34m'***'\u001b[0m\u001b[0;34m,\u001b[0m\u001b[0mi\u001b[0m\u001b[0;34m,\u001b[0m \u001b[0ml1\u001b[0m\u001b[0;34m[\u001b[0m\u001b[0;36m0\u001b[0m\u001b[0;34m]\u001b[0m\u001b[0;34m.\u001b[0m\u001b[0mstep_color\u001b[0m\u001b[0;34m(\u001b[0m\u001b[0mi\u001b[0m\u001b[0;34m)\u001b[0m\u001b[0;34m)\u001b[0m\u001b[0;34m\u001b[0m\u001b[0m\n\u001b[0m",
      "\u001b[0;32m~/bokeh-plots/scalar_metrics_v03.py\u001b[0m in \u001b[0;36mstep_color\u001b[0;34m(self, step_name)\u001b[0m\n\u001b[1;32m    333\u001b[0m \u001b[0;34m\u001b[0m\u001b[0m\n\u001b[1;32m    334\u001b[0m             \u001b[0;32melse\u001b[0m\u001b[0;34m:\u001b[0m\u001b[0;34m\u001b[0m\u001b[0m\n\u001b[0;32m--> 335\u001b[0;31m                 \u001b[0maux1\u001b[0m \u001b[0;34m=\u001b[0m \u001b[0mself\u001b[0m\u001b[0;34m.\u001b[0m\u001b[0mqa_status\u001b[0m\u001b[0;34m(\u001b[0m\u001b[0mi\u001b[0m\u001b[0;34m)\u001b[0m\u001b[0;34m\u001b[0m\u001b[0m\n\u001b[0m\u001b[1;32m    336\u001b[0m                 \u001b[0msteps_status\u001b[0m\u001b[0;34m.\u001b[0m\u001b[0mappend\u001b[0m\u001b[0;34m(\u001b[0m\u001b[0maux1\u001b[0m\u001b[0;34m)\u001b[0m\u001b[0;34m\u001b[0m\u001b[0m\n\u001b[1;32m    337\u001b[0m                 \u001b[0;31m#pass\u001b[0m\u001b[0;34m\u001b[0m\u001b[0;34m\u001b[0m\u001b[0m\n",
      "\u001b[0;32m~/bokeh-plots/scalar_metrics_v03.py\u001b[0m in \u001b[0;36mqa_status\u001b[0;34m(self, qa)\u001b[0m\n\u001b[1;32m    288\u001b[0m         \u001b[0;32melse\u001b[0m\u001b[0;34m:\u001b[0m\u001b[0;34m\u001b[0m\u001b[0m\n\u001b[1;32m    289\u001b[0m             \u001b[0mself\u001b[0m\u001b[0;34m.\u001b[0m\u001b[0merror\u001b[0m\u001b[0;34m.\u001b[0m\u001b[0mupdate\u001b[0m\u001b[0;34m(\u001b[0m\u001b[0;34m{\u001b[0m\u001b[0mqa\u001b[0m\u001b[0;34m:\u001b[0m\u001b[0;32mTrue\u001b[0m\u001b[0;34m}\u001b[0m\u001b[0;34m)\u001b[0m\u001b[0;34m\u001b[0m\u001b[0m\n\u001b[0;32m--> 290\u001b[0;31m             \u001b[0;32mraise\u001b[0m \u001b[0mException\u001b[0m \u001b[0;34m(\u001b[0m\u001b[0;34m\"Invalid variable type:{} in\"\u001b[0m\u001b[0;34m.\u001b[0m\u001b[0mformat\u001b[0m\u001b[0;34m(\u001b[0m\u001b[0mval\u001b[0m\u001b[0;34m)\u001b[0m\u001b[0;34m,\u001b[0m \u001b[0mqa\u001b[0m\u001b[0;34m)\u001b[0m\u001b[0;34m\u001b[0m\u001b[0m\n\u001b[0m\u001b[1;32m    291\u001b[0m \u001b[0;34m\u001b[0m\u001b[0m\n\u001b[1;32m    292\u001b[0m         \u001b[0;32mif\u001b[0m \u001b[0;34m(\u001b[0m \u001b[0mval\u001b[0m \u001b[0;34m<=\u001b[0m \u001b[0malarm\u001b[0m\u001b[0;34m[\u001b[0m\u001b[0;36m0\u001b[0m\u001b[0;34m]\u001b[0m \u001b[0;32mor\u001b[0m \u001b[0mval\u001b[0m \u001b[0;34m>=\u001b[0m \u001b[0malarm\u001b[0m\u001b[0;34m[\u001b[0m\u001b[0;36m1\u001b[0m\u001b[0;34m]\u001b[0m\u001b[0;34m)\u001b[0m\u001b[0;34m:\u001b[0m \u001b[0;31m# \">=\" comes from pipeline definition!\u001b[0m\u001b[0;34m\u001b[0m\u001b[0m\n",
      "\u001b[0;31mException\u001b[0m: ('Invalid variable type:[] in', 'skypeak')"
     ]
    }
   ],
   "source": [
    "l1[0].Load_qa(qa)\n",
    "#l1[0].Load_metrics_n_tests()\n",
    "l1[0].keys_from_scalars(l1[0].params_keys)\n",
    "\n",
    "l1[0].test_ranges( qa, 'warn')\n",
    "l1[0].qa_status( qa)\n",
    "for i in steps_list:\n",
    "    print( '***',i, l1[0].step_color(i))"
   ]
  },
  {
   "cell_type": "code",
   "execution_count": 151,
   "metadata": {
    "scrolled": true
   },
   "outputs": [
    {
     "name": "stdout",
     "output_type": "stream",
     "text": [
      "dict_keys(['DIFF3SIG', 'BIAS', 'BIASDIFF_ERR', 'DATA5SIG', 'DIFF1SIG', 'BIAS_AMP', 'DIFF2SIG', 'MEANBIAS_ROW'])\n"
     ]
    },
    {
     "data": {
      "text/plain": [
       "'NORMAL'"
      ]
     },
     "execution_count": 151,
     "metadata": {},
     "output_type": "execute_result"
    }
   ],
   "source": [
    "metrics_list= ['getbias','getrms','skycont', 'countbins', 'countpix', 'snr'\n",
    "                                ,'skyresid', 'skypeak',  'integ',  'xsigma', 'wsigma'   ]\n",
    "l1[0].metrics['getrms'].keys()\n",
    "\n",
    "mymetric = l1[0].metrics['getbias']\n",
    "print (mymetric.keys())\n",
    "mymetric['BIASDIFF_ERR']"
   ]
  },
  {
   "cell_type": "markdown",
   "metadata": {},
   "source": [
    "                  MINE        BOB\n",
    "skypeak  \t| SUMCOUNT_RMS  | Ok corrected to > SUMCOUNT_MED_SKY \n",
    "wsigma  \t| WSHIFT   \t    | Ok\n",
    "getrms  \t| RMS_OVER   \t| ? between mean in active vs. overscan\n",
    "xsigma  \t| XSHIFT   \t    | Ok\n",
    "skyresid  \t| MED_RESID   \t| Ok corrected to > RESID_RMS\n",
    "getbias  \t| BIAS   \t    | ? between mean in active vs. overscan\n",
    "  integ  \t| MAGDIFF_AVG   | Ok MAGDIFF_AVG\n",
    "countpix  \t| NPIX_LOW   \t| Ok NPIX_LOW\n",
    "   snr    \t| ELG_FIDMAG_SNR| Ok * (Should I test STAR too?)\n",
    "skycont  \t| SKYCONT   \t| Ok SKYCONT \n",
    "countbins  \t| NGOODFIBERS   | ? (not specified)"
   ]
  },
  {
   "cell_type": "markdown",
   "metadata": {},
   "source": [
    "### what is inside skypeak"
   ]
  },
  {
   "cell_type": "code",
   "execution_count": 29,
   "metadata": {},
   "outputs": [
    {
     "name": "stdout",
     "output_type": "stream",
     "text": [
      "  SUMCOUNT_RMS_SKY 0.08892359797981478\n",
      "                RA 5000 **\n",
      "          SUMCOUNT 500 **\n",
      "  SUMCOUNT_RMS_AMP 4 **\n",
      "  SUMCOUNT_MED_SKY 0 **\n",
      "               DEC 5000 **\n",
      "      SUMCOUNT_ERR <class 'str'>\n",
      "      SUMCOUNT_RMS 3.736342297122138\n"
     ]
    }
   ],
   "source": [
    "skp_lst = list(l1[0].metrics['skypeak'].keys())\n",
    "mym = metrics['skypeak']\n",
    "for i in skp_lst:\n",
    "    if isinstance(mym[i], float):\n",
    "        print('%18s' % i, mym[i])\n",
    "    elif isinstance(mym[i], list):\n",
    "        print('%18s' % i, len(mym[i]), '**' )\n",
    "    elif isinstance(mym[i], int):\n",
    "        print('%18s' % i, mym[i])\n",
    "    else:\n",
    "        print('%18s' % i, type(mym[i]))"
   ]
  }
 ],
 "metadata": {
  "kernelspec": {
   "display_name": "Python 3",
   "language": "python",
   "name": "python3"
  },
  "language_info": {
   "codemirror_mode": {
    "name": "ipython",
    "version": 3
   },
   "file_extension": ".py",
   "mimetype": "text/x-python",
   "name": "python",
   "nbconvert_exporter": "python",
   "pygments_lexer": "ipython3",
   "version": "3.5.4"
  }
 },
 "nbformat": 4,
 "nbformat_minor": 2
}
