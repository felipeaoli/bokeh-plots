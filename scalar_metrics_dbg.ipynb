{
 "cells": [
  {
   "cell_type": "code",
   "execution_count": 1,
   "metadata": {},
   "outputs": [],
   "source": [
    "import importlib\n",
    "\n",
    "import scalar_metrics_v03\n",
    "importlib.reload(scalar_metrics_v03)\n",
    "from scalar_metrics_v03 import LoadMetrics"
   ]
  },
  {
   "cell_type": "code",
   "execution_count": 137,
   "metadata": {},
   "outputs": [
    {
     "name": "stdout",
     "output_type": "stream",
     "text": [
      "\n",
      "\n",
      "Tests for the available scalars and using yaml output\n",
      " ==================================================\n",
      "TO DO:\n",
      " *docs of functions \n",
      " *what more else?\n",
      "\n",
      "\n",
      "loading countpix\n",
      "loading getbias\n",
      "loading getrms\n",
      "loading xwsigma\n",
      "loading countbins\n",
      "loading integ\n",
      "loading skycont\n",
      "loading skypeak\n",
      "loading skyresid\n",
      "loading snr\n"
     ]
    }
   ],
   "source": [
    "cam, exp, night = 'r3', '00000003', '20190101'\n",
    "\n",
    "print (\"\\n\\nTests for the available scalars and using yaml output\\n\", \"=\"*50)\n",
    "print (\"TO DO:\\n *docs of functions \\n *what more else?\\n\\n\")\n",
    "\n",
    "lm = LoadMetrics(cam, exp, night);"
   ]
  },
  {
   "cell_type": "code",
   "execution_count": 138,
   "metadata": {},
   "outputs": [],
   "source": [
    "metrics, tests  = lm.metrics, lm.tests"
   ]
  },
  {
   "cell_type": "code",
   "execution_count": 139,
   "metadata": {},
   "outputs": [
    {
     "name": "stdout",
     "output_type": "stream",
     "text": [
      "{'skycont': {'alarm': 'SKYCONT_ALARM_RANGE', 'warn': 'SKYCONT_WARN_RANGE'}, 'getrms': {'alarm': 'RMS_ALARM_RANGE', 'warn': 'RMS_WARN_RANGE'}, 'skypeak': {'alarm': 'SUMCOUNT_ALARM_RANGE', 'warn': 'SUMCOUNT_WARN_RANGE'}, 'skyresid': {'alarm': 'SKY_ALARM_RANGE', 'warn': 'SKY_WARN_RANGE'}, 'countpix': {'alarm': 'NPIX_ALARM_RANGE', 'warn': 'NPIX_WARN_RANGE'}, 'wsigma': {'alarm': 'WSHIFT_ALARM_RANGE', 'warn': 'WSHIFT_WARN_RANGE'}, 'countbins': {'alarm': 'NGOOD_ALARM_RANGE', 'warn': 'NGOOD_WARN_RANGE'}, 'getbias': {'alarm': 'DIFF_ALARM_RANGE', 'warn': 'DIFF_WARN_RANGE'}, 'snr': {'alarm': 'FIDSNR_ALARM_RANGE', 'warn': 'FIDSNR_WARN_RANGE'}, 'integ': {'alarm': 'MAGDIFF_ALARM_RANGE', 'warn': 'MAGDIFF_WARN_RANGE'}, 'xsigma': {'alarm': 'XSHIFT_ALARM_RANGE', 'warn': 'XSHIFT_WARN_RANGE'}}\n",
      "[-2.0, 2.0]\n"
     ]
    }
   ],
   "source": [
    "print(lm.keys_from_scalars(  lm.params_keys) )\n",
    "print(lm.test_ranges( \"wsigma\", kind_of_test=\"warn\"))"
   ]
  },
  {
   "cell_type": "code",
   "execution_count": 140,
   "metadata": {},
   "outputs": [
    {
     "name": "stdout",
     "output_type": "stream",
     "text": [
      "WSHIFT\n"
     ]
    },
    {
     "data": {
      "text/plain": [
       "0.0"
      ]
     },
     "execution_count": 140,
     "metadata": {},
     "output_type": "execute_result"
    }
   ],
   "source": [
    "lm.test_ranges('xsigma','alarm')\n",
    "qa='xwsigma'\n",
    "qaw='wsigma'\n",
    "qax='xsigma'\n",
    "print( lm.metric_dict[qaw])\n",
    "lm.metrics[qa][lm.metric_dict[qaw]]"
   ]
  },
  {
   "cell_type": "code",
   "execution_count": 141,
   "metadata": {},
   "outputs": [
    {
     "data": {
      "text/plain": [
       "'NORMAL'"
      ]
     },
     "execution_count": 141,
     "metadata": {},
     "output_type": "execute_result"
    }
   ],
   "source": [
    "lm.qa_status('xwsigma')"
   ]
  },
  {
   "cell_type": "code",
   "execution_count": 144,
   "metadata": {},
   "outputs": [
    {
     "name": "stdout",
     "output_type": "stream",
     "text": [
      "\n",
      "\n",
      " Wedges Colors:\n",
      " ['red', 'red', 'red', 'red']\n"
     ]
    }
   ],
   "source": [
    "#print(lm.qa_status( \"xwsigma\"), \"\\n\"+\"=\"*79)\n",
    "\n",
    "#print( lm.metric_dict) #<--- Adicionar aqui valores a serem medidos de xsigma e wsigma\n",
    "\n",
    "steps_list = ['preproc', 'extract', 'fiberfl', 'skysubs']\n",
    "yyy = [lm.step_color( i_step) for i_step in ['preproc', 'extract', 'fiberfl', 'skysubs']]\n",
    "    \n",
    "print('\\n\\n Wedges Colors:\\n', yyy)"
   ]
  },
  {
   "cell_type": "markdown",
   "metadata": {},
   "source": [
    "## ===============\n",
    "# Debbuging\n"
   ]
  },
  {
   "cell_type": "code",
   "execution_count": 107,
   "metadata": {},
   "outputs": [
    {
     "name": "stdout",
     "output_type": "stream",
     "text": [
      "r3\n",
      "loading countpix\n",
      "/home/foliveira/quicklook/spectro/redux/exposures/20190101/00000003/ql-countpix-r3-00000003.yaml\n",
      "loading getbias\n",
      "/home/foliveira/quicklook/spectro/redux/exposures/20190101/00000003/ql-getbias-r3-00000003.yaml\n",
      "loading getrms\n",
      "/home/foliveira/quicklook/spectro/redux/exposures/20190101/00000003/ql-getrms-r3-00000003.yaml\n",
      "loading xwsigma\n",
      "/home/foliveira/quicklook/spectro/redux/exposures/20190101/00000003/ql-xwsigma-r3-00000003.yaml\n",
      "loading countbins\n",
      "/home/foliveira/quicklook/spectro/redux/exposures/20190101/00000003/ql-countbins-r3-00000003.yaml\n",
      "loading integ\n",
      "/home/foliveira/quicklook/spectro/redux/exposures/20190101/00000003/ql-integ-r3-00000003.yaml\n",
      "loading skycont\n",
      "/home/foliveira/quicklook/spectro/redux/exposures/20190101/00000003/ql-skycont-r3-00000003.yaml\n",
      "loading skypeak\n",
      "/home/foliveira/quicklook/spectro/redux/exposures/20190101/00000003/ql-skypeak-r3-00000003.yaml\n",
      "loading skyresid\n",
      "/home/foliveira/quicklook/spectro/redux/exposures/20190101/00000003/ql-skyresid-r3-00000003.yaml\n",
      "loading snr\n",
      "/home/foliveira/quicklook/spectro/redux/exposures/20190101/00000003/ql-snr-r3-00000003.yaml\n",
      "b8\n",
      "countpix: yaml not found\n",
      "/home/foliveira/quicklook/spectro/redux/exposures/20190101/00000003/ql-countpix-b8-00000003.yaml\n",
      "getbias: yaml not found\n",
      "/home/foliveira/quicklook/spectro/redux/exposures/20190101/00000003/ql-getbias-b8-00000003.yaml\n",
      "getrms: yaml not found\n",
      "/home/foliveira/quicklook/spectro/redux/exposures/20190101/00000003/ql-getrms-b8-00000003.yaml\n",
      "xwsigma: yaml not found\n",
      "/home/foliveira/quicklook/spectro/redux/exposures/20190101/00000003/ql-xwsigma-b8-00000003.yaml\n",
      "countbins: yaml not found\n",
      "/home/foliveira/quicklook/spectro/redux/exposures/20190101/00000003/ql-countbins-b8-00000003.yaml\n",
      "integ: yaml not found\n",
      "/home/foliveira/quicklook/spectro/redux/exposures/20190101/00000003/ql-integ-b8-00000003.yaml\n",
      "skycont: yaml not found\n",
      "/home/foliveira/quicklook/spectro/redux/exposures/20190101/00000003/ql-skycont-b8-00000003.yaml\n",
      "skypeak: yaml not found\n",
      "/home/foliveira/quicklook/spectro/redux/exposures/20190101/00000003/ql-skypeak-b8-00000003.yaml\n",
      "skyresid: yaml not found\n",
      "/home/foliveira/quicklook/spectro/redux/exposures/20190101/00000003/ql-skyresid-b8-00000003.yaml\n",
      "snr: yaml not found\n",
      "/home/foliveira/quicklook/spectro/redux/exposures/20190101/00000003/ql-snr-b8-00000003.yaml\n"
     ]
    }
   ],
   "source": [
    "importlib.reload(scalar_metrics_v03)\n",
    "from scalar_metrics_v03 import LoadMetrics\n",
    "\n",
    "cam_list = ['r3', 'b8']\n",
    "exp, night =  '00000003', '20190101'\n",
    "\n",
    "l1=[]\n",
    "for i, cam in enumerate(cam_list): \n",
    "    print(cam,)\n",
    "    l1.append(LoadMetrics(cam,exp,night))"
   ]
  },
  {
   "cell_type": "code",
   "execution_count": 108,
   "metadata": {},
   "outputs": [
    {
     "name": "stdout",
     "output_type": "stream",
     "text": [
      "[<scalar_metrics_v03.LoadMetrics object at 0x7f0bab4ffd30>, <scalar_metrics_v03.LoadMetrics object at 0x7f0bc6e68198>]\n"
     ]
    }
   ],
   "source": [
    "print(l1)"
   ]
  },
  {
   "cell_type": "code",
   "execution_count": 110,
   "metadata": {},
   "outputs": [
    {
     "name": "stdout",
     "output_type": "stream",
     "text": [
      "init_error {'skypeak': True, 'getrms': True, 'getbias': True, 'skyresid': True, 'xwsigma': True, 'integ': True, 'countpix': True, 'snr': True, 'skycont': True, 'countbins': True}\n",
      "countpix True\n",
      "QL FAILURE\n",
      "getbias True\n",
      "QL FAILURE\n",
      "getrms True\n",
      "QL FAILURE\n",
      "xwsigma True\n",
      "QL FAILURE\n",
      "Steps_status: ['FAILURE', 'FAILURE', 'FAILURE', 'FAILURE']\n",
      "magenta\n"
     ]
    }
   ],
   "source": [
    "steps_list = ['preproc', 'extract', 'fiberfl', 'skysubs']\n",
    "print (l1[1].step_color(steps_list[0]))"
   ]
  },
  {
   "cell_type": "code",
   "execution_count": 111,
   "metadata": {
    "scrolled": true
   },
   "outputs": [
    {
     "name": "stdout",
     "output_type": "stream",
     "text": [
      "loading snr\n",
      "/home/foliveira/quicklook/spectro/redux/exposures/20190101/00000003/ql-snr-r3-00000003.yaml\n"
     ]
    }
   ],
   "source": [
    "qa='snr'\n",
    "l1[0].Load_qa(qa);\n",
    "# lm.Load_metrics_n_tests();"
   ]
  },
  {
   "cell_type": "code",
   "execution_count": 51,
   "metadata": {},
   "outputs": [],
   "source": [
    "??LoadMetrics"
   ]
  },
  {
   "cell_type": "code",
   "execution_count": 71,
   "metadata": {},
   "outputs": [
    {
     "data": {
      "text/plain": [
       "'ALARM'"
      ]
     },
     "execution_count": 71,
     "metadata": {},
     "output_type": "execute_result"
    }
   ],
   "source": [
    "#print (l1[3].keys_from_scalars( l1[3].params_keys))\n",
    "        #test_ranges(self, qa, kind_of_test)\n",
    "l1[0].qa_status(qa)\n",
    "#l1[0].step_color( step_name)"
   ]
  },
  {
   "cell_type": "code",
   "execution_count": 98,
   "metadata": {},
   "outputs": [
    {
     "name": "stdout",
     "output_type": "stream",
     "text": [
      "loading snr\n",
      "/home/foliveira/quicklook/spectro/redux/exposures/20190101/00000003/ql-snr-r3-00000003.yaml\n",
      "init_error {'skypeak': True, 'getrms': True, 'getbias': True, 'skyresid': True, 'xwsigma': True, 'integ': True, 'countpix': True, 'snr': False, 'skycont': True, 'countbins': True}\n",
      "countpix True\n",
      "QL FAILURE\n",
      "getbias True\n",
      "QL FAILURE\n",
      "getrms True\n",
      "QL FAILURE\n",
      "xwsigma True\n",
      "QL FAILURE\n",
      "Steps_status: ['FAILURE', 'FAILURE', 'FAILURE', 'FAILURE']\n"
     ]
    },
    {
     "data": {
      "text/plain": [
       "'magenta'"
      ]
     },
     "execution_count": 98,
     "metadata": {},
     "output_type": "execute_result"
    }
   ],
   "source": [
    "l1[0].Load_qa(qa)\n",
    "#l1[0].Load_metrics_n_tests()\n",
    "l1[0].keys_from_scalars(l1[0].params_keys)\n",
    "\n",
    "l1[0].test_ranges( qa, 'warn')\n",
    "l1[0].qa_status( qa)\n",
    "l1[0].step_color(steps_list[0])"
   ]
  },
  {
   "cell_type": "code",
   "execution_count": null,
   "metadata": {},
   "outputs": [],
   "source": []
  }
 ],
 "metadata": {
  "kernelspec": {
   "display_name": "Python 3",
   "language": "python",
   "name": "python3"
  },
  "language_info": {
   "codemirror_mode": {
    "name": "ipython",
    "version": 3
   },
   "file_extension": ".py",
   "mimetype": "text/x-python",
   "name": "python",
   "nbconvert_exporter": "python",
   "pygments_lexer": "ipython3",
   "version": "3.5.4"
  }
 },
 "nbformat": 4,
 "nbformat_minor": 2
}
