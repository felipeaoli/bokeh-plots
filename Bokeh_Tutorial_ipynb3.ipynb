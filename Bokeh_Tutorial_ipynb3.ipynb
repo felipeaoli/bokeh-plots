{
 "cells": [
  {
   "cell_type": "code",
   "execution_count": 50,
   "metadata": {},
   "outputs": [],
   "source": [
    "#import sys\n",
    "#sys.executable\n",
    "#sys.path"
   ]
  },
  {
   "cell_type": "code",
   "execution_count": 64,
   "metadata": {},
   "outputs": [
    {
     "name": "stdout",
     "output_type": "stream",
     "text": [
      "-20170929-14:33:32\n"
     ]
    }
   ],
   "source": [
    "from bokeh.plotting import figure, show\n",
    "#from bokeh.plotting import output_file\n",
    "from bokeh.plotting import output_notebook\n",
    "import numpy as np\n",
    "from bokeh.io import output_file\n",
    "\n",
    "import getpass\n",
    "name = getpass.getuser()\n",
    "import datetime\n",
    "\n",
    "now=    datetime.datetime.now().strftime('-%Y%m%d-%H:%M:%S')\n",
    "output_file('teste_'+name+now, title='Bokeh Plot')\n",
    "print(now)\n",
    "\n"
   ]
  },
  {
   "cell_type": "code",
   "execution_count": 71,
   "metadata": {},
   "outputs": [
    {
     "name": "stdout",
     "output_type": "stream",
     "text": [
      "r3\n",
      "Loading  ql-snr-r3-00000003.yaml\n",
      "\n",
      "\n",
      "Available data and Keys:\n",
      "0 : QSO_SNR_MAG\n",
      "1 : LRG_FIBERID\n",
      "2 : STAR_FITRESULTS\n",
      "3 : FIDSNR_WARN\n",
      "4 : LRG_FIDMAG_SNR\n",
      "5 : LRG_SNR_MAG\n",
      "6 : ELG_FIBERID\n",
      "7 : STAR_FIDMAG_SNR\n",
      "8 : ELG_FIDMAG_SNR\n",
      "9 : QSO_FITRESULTS\n",
      "10 : ELG_SNR_MAG\n",
      "11 : STAR_SNR_MAG\n",
      "12 : RA\n",
      "13 : LRG_FITRESULTS\n",
      "14 : QSO_FIBERID\n",
      "15 : NUM_NEGATIVE_SNR\n",
      "16 : DEC\n",
      "17 : QSO_FIDMAG_SNR\n",
      "18 : MEDIAN_SNR\n",
      "19 : ELG_FITRESULTS\n",
      "20 : STAR_FIBERID\n"
     ]
    }
   ],
   "source": [
    "%matplotlib inline\n",
    "import yaml\n",
    "\n",
    "def name_file(ubr):\n",
    "    folder = '/home/foliveira/quicklookOLD/spectro/redux/exposures/20190101/00000003/'\n",
    "    file_filter =  'ql-snr-'+ubr+'-00000003.yaml'\n",
    "    print('Loading ',file_filter)\n",
    "    return folder + file_filter\n",
    "\n",
    "keys    = []\n",
    "docs    = []\n",
    "metrics = []\n",
    "for i, iname in enumerate(['r3']):\n",
    "    print(iname)\n",
    "    stream = open( name_file(iname), \"r\")\n",
    "    docs.append( yaml.load(stream) ) \n",
    "    keys.append( list(docs[i]['METRICS'].keys()) )\n",
    "    metrics.append(docs[i]['METRICS'])\n",
    "    #print( metrics[-1]['ELG_FITRESULTS']),'\\n'\n",
    "\n",
    "print('\\n\\nAvailable data and Keys:')    \n",
    "for i, k in enumerate(keys[0]):\n",
    "    print(i,':',k)\n",
    "#print(keys,'\\n\\n', metrics[0]['ELG_SNR_MAG'][1]) \n",
    "#print metrics[0]['ELG_SNR_MAG'][0][0:3],'\\n',metrics[1]['ELG_SNR_MAG'][0][0:3]"
   ]
  },
  {
   "cell_type": "code",
   "execution_count": 78,
   "metadata": {},
   "outputs": [
    {
     "name": "stdout",
     "output_type": "stream",
     "text": [
      "\n",
      "\n",
      "== r0 ===:\n",
      "1st:\n",
      "y = 1.67e+01 + -7.12e-01 *x \n",
      "2nd:\n",
      "y = 1.64e+02 + -1.40e+01 *x + 2.99e-01 *x**2\n",
      "\n",
      "\n",
      "From pipeline, ELG\n",
      "[164.08843628842524, -13.993302419627337, 0.29895178000866135 ]\n"
     ]
    }
   ],
   "source": [
    "from bokeh.models import HoverTool\n",
    "from bokeh.plotting import ColumnDataSource\n",
    "\n",
    "p = figure(plot_width=400, plot_height=400)\n",
    "\n",
    "i_snr = 10 # Which Object is being analysed (check keys list above)\n",
    "\n",
    "color= ['red', 'blue', 'green']\n",
    "from bokeh.models.glyphs import Circle, Line\n",
    "\n",
    "for ii,iname in enumerate(['r0']):#(['r0','b0']):\n",
    "    x = metrics[ii][keys[ii][i_snr]][1]\n",
    "    y = metrics[ii][keys[ii][i_snr]][0]\n",
    "\n",
    "    source = ColumnDataSource(data=dict(\n",
    "    x1=x,\n",
    "    y1=y,\n",
    "    ))\n",
    "    \n",
    "    hover = HoverTool(tooltips=[\n",
    "         (\"data_index\", \"$index\"),\n",
    "         (\"(Mag,SNR)\", \"($x, $y)\")\n",
    "         ])\n",
    "    p =  figure(tools = [hover,'pan','wheel_zoom','box_zoom','reset'])\n",
    "    \n",
    "    p.xaxis.axis_label = \"DECAM\"\n",
    "    p.yaxis.axis_label = \"SNR\"\n",
    "    p.title.text = keys[ii][i_snr].replace('_SNR_MAG','')\n",
    "\n",
    "    a, b       = np.polyfit(x,y,1) # Ajuste Linear\n",
    "    a2, b2, c2 = np.polyfit(x,y,2) # Ajuste de 2a ordem\n",
    "\n",
    "    xfit = np.linspace(np.min(x), np.max(x),200)\n",
    "    fit_lin = ColumnDataSource(data = dict( x = xfit, y = a*xfit+ b)  )\n",
    "    fit_sec = ColumnDataSource(data = dict( x = xfit, y = a2*xfit**2 + b2 *xfit +c2)  )\n",
    "\n",
    "    # Plots\n",
    "    p.circle('x1', 'y1', source =source, fill_alpha=0.7, size=7, line_color='black', fill_color=color[ii])         \n",
    "    p.line(   'x', 'y', source=fit_lin, line_color=\"black\", line_width= 3, alpha=1.)#color[ii],\n",
    "    p.line(   'x', 'y', source=fit_sec, line_color=\"black\", line_dash=\"10 10\", line_width=3, alpha=1.) #color[ii],   \n",
    "\n",
    "    print ('\\n\\n== {} ===:\\n1st:\\ny = {:3.2e} + {:3.2e} *x \\n2nd:\\ny = {:3.2e} + {:3.2e} *x + {:3.2e} *x**2\\n\\n'.format(iname,b,a,c2,b2,a2))\n",
    "\n",
    "    print ('From pipeline, {}\\n[{}, {}, {} ]'.format(keys[0][i_snr].replace('_SNR_MAG',''),c2,b2,a2)) "
   ]
  },
  {
   "cell_type": "code",
   "execution_count": 79,
   "metadata": {},
   "outputs": [],
   "source": [
    "show(p)"
   ]
  },
  {
   "cell_type": "code",
   "execution_count": null,
   "metadata": {},
   "outputs": [],
   "source": []
  }
 ],
 "metadata": {
  "kernelspec": {
   "display_name": "Python 3",
   "language": "python",
   "name": "python3"
  },
  "language_info": {
   "codemirror_mode": {
    "name": "ipython",
    "version": 3
   },
   "file_extension": ".py",
   "mimetype": "text/x-python",
   "name": "python",
   "nbconvert_exporter": "python",
   "pygments_lexer": "ipython3",
   "version": "3.5.4"
  }
 },
 "nbformat": 4,
 "nbformat_minor": 1
}
